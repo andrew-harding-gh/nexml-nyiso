{
 "cells": [
  {
   "cell_type": "code",
   "execution_count": 1,
   "metadata": {},
   "outputs": [
    {
     "name": "stderr",
     "output_type": "stream",
     "text": [
      "Using plaidml.keras.backend backend.\n"
     ]
    }
   ],
   "source": [
    "import os\n",
    "os.environ[\"KERAS_BACKEND\"] = \"plaidml.keras.backend\"\n",
    "\n",
    "import pandas as pd\n",
    "import numpy as np\n",
    "from datetime import datetime\n",
    "from bokeh.plotting import figure, output_file, show\n",
    "from bokeh.models import ColumnDataSource, DatetimeTickFormatter\n",
    "from bokeh.models.tools import HoverTool\n",
    "from bokeh.io.export import get_screenshot_as_png\n",
    "from bokeh.io import output_notebook\n",
    "import sklearn\n",
    "from sklearn.preprocessing import MinMaxScaler, StandardScaler\n",
    "import seaborn as sns; sns.set()\n",
    "import matplotlib.pyplot as plt\n",
    "\n",
    "from keras import backend\n",
    "from keras import layers\n",
    "from keras.models import Sequential, Model\n",
    "from keras.preprocessing.sequence import TimeseriesGenerator\n",
    "\n",
    "\n",
    "import utils"
   ]
  },
  {
   "cell_type": "code",
   "execution_count": 2,
   "metadata": {},
   "outputs": [
    {
     "data": {
      "text/html": [
       "<div>\n",
       "<style scoped>\n",
       "    .dataframe tbody tr th:only-of-type {\n",
       "        vertical-align: middle;\n",
       "    }\n",
       "\n",
       "    .dataframe tbody tr th {\n",
       "        vertical-align: top;\n",
       "    }\n",
       "\n",
       "    .dataframe thead th {\n",
       "        text-align: right;\n",
       "    }\n",
       "</style>\n",
       "<table border=\"1\" class=\"dataframe\">\n",
       "  <thead>\n",
       "    <tr style=\"text-align: right;\">\n",
       "      <th></th>\n",
       "      <th>target</th>\n",
       "      <th>temp</th>\n",
       "      <th>dwpt</th>\n",
       "      <th>heat_idx</th>\n",
       "      <th>rh</th>\n",
       "      <th>pressure</th>\n",
       "      <th>vis</th>\n",
       "      <th>wc</th>\n",
       "      <th>wdir</th>\n",
       "      <th>wspd</th>\n",
       "      <th>...</th>\n",
       "      <th>day_of_year</th>\n",
       "      <th>weekday</th>\n",
       "      <th>week</th>\n",
       "      <th>month</th>\n",
       "      <th>hour</th>\n",
       "      <th>cloud_cover_BKN</th>\n",
       "      <th>cloud_cover_CLR</th>\n",
       "      <th>cloud_cover_FEW</th>\n",
       "      <th>cloud_cover_OVC</th>\n",
       "      <th>cloud_cover_SCT</th>\n",
       "    </tr>\n",
       "  </thead>\n",
       "  <tbody>\n",
       "    <tr>\n",
       "      <th>2017-07-14 05:00:00</th>\n",
       "      <td>6196.292</td>\n",
       "      <td>66.0</td>\n",
       "      <td>65.0</td>\n",
       "      <td>66.0</td>\n",
       "      <td>96.0</td>\n",
       "      <td>30.03</td>\n",
       "      <td>8.0</td>\n",
       "      <td>66.0</td>\n",
       "      <td>50.0</td>\n",
       "      <td>15.0</td>\n",
       "      <td>...</td>\n",
       "      <td>195</td>\n",
       "      <td>4</td>\n",
       "      <td>28</td>\n",
       "      <td>7</td>\n",
       "      <td>5</td>\n",
       "      <td>0</td>\n",
       "      <td>0</td>\n",
       "      <td>0</td>\n",
       "      <td>1</td>\n",
       "      <td>0</td>\n",
       "    </tr>\n",
       "    <tr>\n",
       "      <th>2017-07-14 06:00:00</th>\n",
       "      <td>6525.258</td>\n",
       "      <td>65.0</td>\n",
       "      <td>64.0</td>\n",
       "      <td>65.0</td>\n",
       "      <td>97.0</td>\n",
       "      <td>30.05</td>\n",
       "      <td>10.0</td>\n",
       "      <td>65.0</td>\n",
       "      <td>70.0</td>\n",
       "      <td>13.0</td>\n",
       "      <td>...</td>\n",
       "      <td>195</td>\n",
       "      <td>4</td>\n",
       "      <td>28</td>\n",
       "      <td>7</td>\n",
       "      <td>6</td>\n",
       "      <td>0</td>\n",
       "      <td>0</td>\n",
       "      <td>0</td>\n",
       "      <td>1</td>\n",
       "      <td>0</td>\n",
       "    </tr>\n",
       "    <tr>\n",
       "      <th>2017-07-14 07:00:00</th>\n",
       "      <td>6934.592</td>\n",
       "      <td>65.0</td>\n",
       "      <td>64.0</td>\n",
       "      <td>65.0</td>\n",
       "      <td>97.0</td>\n",
       "      <td>30.07</td>\n",
       "      <td>5.0</td>\n",
       "      <td>65.0</td>\n",
       "      <td>70.0</td>\n",
       "      <td>8.0</td>\n",
       "      <td>...</td>\n",
       "      <td>195</td>\n",
       "      <td>4</td>\n",
       "      <td>28</td>\n",
       "      <td>7</td>\n",
       "      <td>7</td>\n",
       "      <td>0</td>\n",
       "      <td>0</td>\n",
       "      <td>0</td>\n",
       "      <td>1</td>\n",
       "      <td>0</td>\n",
       "    </tr>\n",
       "    <tr>\n",
       "      <th>2017-07-14 08:00:00</th>\n",
       "      <td>7249.992</td>\n",
       "      <td>65.0</td>\n",
       "      <td>64.0</td>\n",
       "      <td>65.0</td>\n",
       "      <td>97.0</td>\n",
       "      <td>30.06</td>\n",
       "      <td>6.0</td>\n",
       "      <td>65.0</td>\n",
       "      <td>80.0</td>\n",
       "      <td>10.0</td>\n",
       "      <td>...</td>\n",
       "      <td>195</td>\n",
       "      <td>4</td>\n",
       "      <td>28</td>\n",
       "      <td>7</td>\n",
       "      <td>8</td>\n",
       "      <td>0</td>\n",
       "      <td>0</td>\n",
       "      <td>0</td>\n",
       "      <td>1</td>\n",
       "      <td>0</td>\n",
       "    </tr>\n",
       "    <tr>\n",
       "      <th>2017-07-14 09:00:00</th>\n",
       "      <td>7463.567</td>\n",
       "      <td>66.0</td>\n",
       "      <td>64.0</td>\n",
       "      <td>66.0</td>\n",
       "      <td>93.0</td>\n",
       "      <td>30.07</td>\n",
       "      <td>8.0</td>\n",
       "      <td>66.0</td>\n",
       "      <td>60.0</td>\n",
       "      <td>10.0</td>\n",
       "      <td>...</td>\n",
       "      <td>195</td>\n",
       "      <td>4</td>\n",
       "      <td>28</td>\n",
       "      <td>7</td>\n",
       "      <td>9</td>\n",
       "      <td>0</td>\n",
       "      <td>0</td>\n",
       "      <td>0</td>\n",
       "      <td>1</td>\n",
       "      <td>0</td>\n",
       "    </tr>\n",
       "  </tbody>\n",
       "</table>\n",
       "<p>5 rows × 23 columns</p>\n",
       "</div>"
      ],
      "text/plain": [
       "                       target  temp  dwpt  heat_idx    rh  pressure   vis  \\\n",
       "2017-07-14 05:00:00  6196.292  66.0  65.0      66.0  96.0     30.03   8.0   \n",
       "2017-07-14 06:00:00  6525.258  65.0  64.0      65.0  97.0     30.05  10.0   \n",
       "2017-07-14 07:00:00  6934.592  65.0  64.0      65.0  97.0     30.07   5.0   \n",
       "2017-07-14 08:00:00  7249.992  65.0  64.0      65.0  97.0     30.06   6.0   \n",
       "2017-07-14 09:00:00  7463.567  66.0  64.0      66.0  93.0     30.07   8.0   \n",
       "\n",
       "                       wc  wdir  wspd  ...  day_of_year  weekday  week  month  \\\n",
       "2017-07-14 05:00:00  66.0  50.0  15.0  ...          195        4    28      7   \n",
       "2017-07-14 06:00:00  65.0  70.0  13.0  ...          195        4    28      7   \n",
       "2017-07-14 07:00:00  65.0  70.0   8.0  ...          195        4    28      7   \n",
       "2017-07-14 08:00:00  65.0  80.0  10.0  ...          195        4    28      7   \n",
       "2017-07-14 09:00:00  66.0  60.0  10.0  ...          195        4    28      7   \n",
       "\n",
       "                     hour  cloud_cover_BKN  cloud_cover_CLR  cloud_cover_FEW  \\\n",
       "2017-07-14 05:00:00     5                0                0                0   \n",
       "2017-07-14 06:00:00     6                0                0                0   \n",
       "2017-07-14 07:00:00     7                0                0                0   \n",
       "2017-07-14 08:00:00     8                0                0                0   \n",
       "2017-07-14 09:00:00     9                0                0                0   \n",
       "\n",
       "                     cloud_cover_OVC  cloud_cover_SCT  \n",
       "2017-07-14 05:00:00                1                0  \n",
       "2017-07-14 06:00:00                1                0  \n",
       "2017-07-14 07:00:00                1                0  \n",
       "2017-07-14 08:00:00                1                0  \n",
       "2017-07-14 09:00:00                1                0  \n",
       "\n",
       "[5 rows x 23 columns]"
      ]
     },
     "execution_count": 2,
     "metadata": {},
     "output_type": "execute_result"
    }
   ],
   "source": [
    "val_split = 0.2\n",
    "\n",
    "train, test = utils.load_data(random=False, hourly=True)\n",
    "\n",
    "# train = utils.one_hot_calendar_vals(train)\n",
    "# test = utils.one_hot_calendar_vals(test)\n",
    "\n",
    "vidx = int(len(train) * (1 - val_split))\n",
    "train, validate = train[vidx:], train[:vidx]\n",
    "train.head()"
   ]
  },
  {
   "cell_type": "code",
   "execution_count": 3,
   "metadata": {},
   "outputs": [],
   "source": [
    "train_labels = np.array(train['target']).reshape(-1, 1)\n",
    "train.drop(columns=['target'], inplace=True)\n",
    "\n",
    "validate_labels = np.array(validate['target']).reshape(-1, 1)\n",
    "validate.drop(columns=['target'], inplace=True)\n",
    "\n",
    "test_labels = np.array(test['target']).reshape(-1, 1)\n",
    "test.drop(columns=['target'], inplace=True)\n",
    "\n",
    "cols = train.columns"
   ]
  },
  {
   "cell_type": "code",
   "execution_count": 4,
   "metadata": {},
   "outputs": [],
   "source": [
    "scaler = StandardScaler()\n",
    "train = scaler.fit_transform(train)\n",
    "validate = scaler.transform(validate)\n",
    "test = scaler.transform(test)\n",
    "\n",
    "# label_scaler = StandardScaler()\n",
    "# train_labels = label_scaler.fit_transform(train_labels)\n",
    "# validate_labels = label_scaler.transform(validate_labels)\n",
    "# test_labels = label_scaler.transform(test_labels)"
   ]
  },
  {
   "cell_type": "code",
   "execution_count": 5,
   "metadata": {},
   "outputs": [],
   "source": [
    "# shift the target samples by one step to the right so that TSGen picks up correct label\n",
    "\n",
    "train_labels = np.insert(train_labels, 0, 0)[:-1]\n",
    "validate_labels = np.insert(validate_labels, 0, 0)[:-1]\n",
    "test_labels = np.insert(test_labels, 0, 0)[:-1]"
   ]
  },
  {
   "cell_type": "code",
   "execution_count": 6,
   "metadata": {},
   "outputs": [],
   "source": [
    "timesteps = 12 \n",
    "steps_ahead = 1\n",
    "epochs = 10\n",
    "\n",
    "train_gen = TimeseriesGenerator(train, train_labels, length=timesteps,\n",
    "                                sampling_rate=1, batch_size=steps_ahead)\n",
    "validate_gen = TimeseriesGenerator(validate, validate_labels, length=timesteps,\n",
    "                              sampling_rate=1, batch_size=steps_ahead)"
   ]
  },
  {
   "cell_type": "code",
   "execution_count": 7,
   "metadata": {},
   "outputs": [
    {
     "name": "stderr",
     "output_type": "stream",
     "text": [
      "INFO:plaidml:Opening device \"llvm_cpu.0\"\n"
     ]
    },
    {
     "name": "stdout",
     "output_type": "stream",
     "text": [
      "_________________________________________________________________\n",
      "Layer (type)                 Output Shape              Param #   \n",
      "=================================================================\n",
      "lstm_1 (LSTM)                (None, 23)                4232      \n",
      "_________________________________________________________________\n",
      "dropout_1 (Dropout)          (None, 23)                0         \n",
      "_________________________________________________________________\n",
      "output (Dense)               (None, 1)                 24        \n",
      "=================================================================\n",
      "Total params: 4,256\n",
      "Trainable params: 4,256\n",
      "Non-trainable params: 0\n",
      "_________________________________________________________________\n"
     ]
    }
   ],
   "source": [
    "model = Sequential()\n",
    "\n",
    "input_shape = (timesteps, train.shape[1])\n",
    "\n",
    "model.add(layers.LSTM(23, input_shape=input_shape))\n",
    "model.add(layers.Dropout(0.3))\n",
    "model.add(layers.Dense(1, name='output'))\n",
    "\n",
    "model.compile(loss='mse', optimizer='rmsprop', metrics=['mae'])\n",
    "model.summary()"
   ]
  },
  {
   "cell_type": "code",
   "execution_count": null,
   "metadata": {},
   "outputs": [],
   "source": []
  },
  {
   "cell_type": "code",
   "execution_count": null,
   "metadata": {
    "scrolled": true
   },
   "outputs": [
    {
     "name": "stdout",
     "output_type": "stream",
     "text": [
      "Epoch 1/10\n",
      "23697/23697 [==============================] - 526s 22ms/step - loss: 34511311.3471 - mean_absolute_error: 5741.8419 - val_loss: 34142557.7628 - val_mean_absolute_error: 5693.9180\n",
      "Epoch 2/10\n",
      "23697/23697 [==============================] - 521s 22ms/step - loss: 29443683.6358 - mean_absolute_error: 5281.2961 - val_loss: 29547891.0286 - val_mean_absolute_error: 5266.9997\n",
      "Epoch 3/10\n",
      "23697/23697 [==============================] - 462s 20ms/step - loss: 24842021.9397 - mean_absolute_error: 4824.1532 - val_loss: 25402025.3283 - val_mean_absolute_error: 4847.3699\n",
      "Epoch 4/10\n",
      "23685/23697 [============================>.] - ETA: 0s - loss: 20654667.8133 - mean_absolute_error: 4367.3576"
     ]
    }
   ],
   "source": [
    "history = model.fit_generator(\n",
    "    train_gen,\n",
    "    epochs=epochs,\n",
    "    workers=4,\n",
    "    validation_data=validate_gen\n",
    ")"
   ]
  },
  {
   "cell_type": "code",
   "execution_count": null,
   "metadata": {},
   "outputs": [],
   "source": [
    "plt.plot(history.history['loss'], label='train')\n",
    "plt.plot(history.history['val_loss'], label='validate')\n",
    "plt.legend()\n",
    "plt.show()"
   ]
  },
  {
   "cell_type": "code",
   "execution_count": null,
   "metadata": {},
   "outputs": [],
   "source": [
    "plt.plot(history.history['mean_absolute_error'], label='train')\n",
    "plt.plot(history.history['val_mean_absolute_error'], label='validate')\n",
    "plt.legend()\n",
    "plt.show()"
   ]
  },
  {
   "cell_type": "code",
   "execution_count": null,
   "metadata": {},
   "outputs": [],
   "source": [
    "test_gen = TimeseriesGenerator(test, test_labels, length=timesteps,\n",
    "                                sampling_rate=1, batch_size=steps_ahead)\n",
    "\n",
    "pred = model.predict_generator(test_gen)\n"
   ]
  },
  {
   "cell_type": "code",
   "execution_count": null,
   "metadata": {},
   "outputs": [],
   "source": [
    "# get the ISO hourly forecasts and clean them up\n",
    "isolf = utils.isolf_hourly()\n",
    "\n",
    "# get predictions made on day X for day X (which means the forecast for day X posted on day X)\n",
    "isolf = isolf.loc[isolf['date_pred_for'].dt.date == isolf['date_pred_made'].dt.date]\n",
    "isolf = isolf.set_index('date_pred_for')"
   ]
  },
  {
   "cell_type": "code",
   "execution_count": null,
   "metadata": {},
   "outputs": [],
   "source": [
    "# results = pd.concat([pd.DataFrame(test), isolf], axis=1)\n",
    "\n",
    "# results.info()\n",
    "\n",
    "# results['prediction'] = pred\n",
    "# results['target'] *= std.target\n",
    "# results['target'] += mean.target\n",
    "# results['prediction'] *= std.target\n",
    "# results['prediction'] += mean.target\n",
    "\n",
    "# results['date'] = results.index\n",
    "# results = results.astype({'prediction': 'float'})\n",
    "\n",
    "# results, pred_plot = model_scoring.eval(results)"
   ]
  }
 ],
 "metadata": {
  "kernelspec": {
   "display_name": "venv",
   "language": "python",
   "name": "venv"
  },
  "language_info": {
   "codemirror_mode": {
    "name": "ipython",
    "version": 3
   },
   "file_extension": ".py",
   "mimetype": "text/x-python",
   "name": "python",
   "nbconvert_exporter": "python",
   "pygments_lexer": "ipython3",
   "version": "3.7.5"
  }
 },
 "nbformat": 4,
 "nbformat_minor": 4
}
