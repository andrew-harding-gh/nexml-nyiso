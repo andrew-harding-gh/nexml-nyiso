{
 "cells": [
  {
   "cell_type": "code",
   "execution_count": 1,
   "metadata": {},
   "outputs": [
    {
     "name": "stderr",
     "output_type": "stream",
     "text": [
      "Using plaidml.keras.backend backend.\n"
     ]
    }
   ],
   "source": [
    "import os\n",
    "os.environ[\"KERAS_BACKEND\"] = \"plaidml.keras.backend\"\n",
    "\n",
    "import pandas as pd\n",
    "import numpy as np\n",
    "from datetime import datetime\n",
    "from bokeh.plotting import figure, output_file, show\n",
    "from bokeh.models import ColumnDataSource, DatetimeTickFormatter\n",
    "from bokeh.models.tools import HoverTool\n",
    "from bokeh.io.export import get_screenshot_as_png\n",
    "from bokeh.io import output_notebook\n",
    "import sklearn\n",
    "from sklearn.preprocessing import MinMaxScaler, StandardScaler\n",
    "import seaborn as sns; sns.set()\n",
    "import matplotlib.pyplot as plt\n",
    "\n",
    "from keras import backend\n",
    "from keras import layers\n",
    "from keras.models import Sequential, Model\n",
    "from keras.preprocessing.sequence import TimeseriesGenerator\n",
    "\n",
    "\n",
    "import utils"
   ]
  },
  {
   "cell_type": "code",
   "execution_count": 2,
   "metadata": {},
   "outputs": [
    {
     "data": {
      "text/html": [
       "<div>\n",
       "<style scoped>\n",
       "    .dataframe tbody tr th:only-of-type {\n",
       "        vertical-align: middle;\n",
       "    }\n",
       "\n",
       "    .dataframe tbody tr th {\n",
       "        vertical-align: top;\n",
       "    }\n",
       "\n",
       "    .dataframe thead th {\n",
       "        text-align: right;\n",
       "    }\n",
       "</style>\n",
       "<table border=\"1\" class=\"dataframe\">\n",
       "  <thead>\n",
       "    <tr style=\"text-align: right;\">\n",
       "      <th></th>\n",
       "      <th>target</th>\n",
       "      <th>temp</th>\n",
       "      <th>dwpt</th>\n",
       "      <th>heat_idx</th>\n",
       "      <th>rh</th>\n",
       "      <th>pressure</th>\n",
       "      <th>vis</th>\n",
       "      <th>wc</th>\n",
       "      <th>wdir</th>\n",
       "      <th>wspd</th>\n",
       "      <th>...</th>\n",
       "      <th>day_of_year</th>\n",
       "      <th>weekday</th>\n",
       "      <th>week</th>\n",
       "      <th>month</th>\n",
       "      <th>hour</th>\n",
       "      <th>cloud_cover_BKN</th>\n",
       "      <th>cloud_cover_CLR</th>\n",
       "      <th>cloud_cover_FEW</th>\n",
       "      <th>cloud_cover_OVC</th>\n",
       "      <th>cloud_cover_SCT</th>\n",
       "    </tr>\n",
       "  </thead>\n",
       "  <tbody>\n",
       "    <tr>\n",
       "      <th>2017-07-14 05:00:00</th>\n",
       "      <td>6196.292</td>\n",
       "      <td>66.0</td>\n",
       "      <td>65.0</td>\n",
       "      <td>66.0</td>\n",
       "      <td>96.0</td>\n",
       "      <td>30.03</td>\n",
       "      <td>8.0</td>\n",
       "      <td>66.0</td>\n",
       "      <td>50.0</td>\n",
       "      <td>15.0</td>\n",
       "      <td>...</td>\n",
       "      <td>195</td>\n",
       "      <td>4</td>\n",
       "      <td>28</td>\n",
       "      <td>7</td>\n",
       "      <td>5</td>\n",
       "      <td>0</td>\n",
       "      <td>0</td>\n",
       "      <td>0</td>\n",
       "      <td>1</td>\n",
       "      <td>0</td>\n",
       "    </tr>\n",
       "    <tr>\n",
       "      <th>2017-07-14 06:00:00</th>\n",
       "      <td>6525.258</td>\n",
       "      <td>65.0</td>\n",
       "      <td>64.0</td>\n",
       "      <td>65.0</td>\n",
       "      <td>97.0</td>\n",
       "      <td>30.05</td>\n",
       "      <td>10.0</td>\n",
       "      <td>65.0</td>\n",
       "      <td>70.0</td>\n",
       "      <td>13.0</td>\n",
       "      <td>...</td>\n",
       "      <td>195</td>\n",
       "      <td>4</td>\n",
       "      <td>28</td>\n",
       "      <td>7</td>\n",
       "      <td>6</td>\n",
       "      <td>0</td>\n",
       "      <td>0</td>\n",
       "      <td>0</td>\n",
       "      <td>1</td>\n",
       "      <td>0</td>\n",
       "    </tr>\n",
       "    <tr>\n",
       "      <th>2017-07-14 07:00:00</th>\n",
       "      <td>6934.592</td>\n",
       "      <td>65.0</td>\n",
       "      <td>64.0</td>\n",
       "      <td>65.0</td>\n",
       "      <td>97.0</td>\n",
       "      <td>30.07</td>\n",
       "      <td>5.0</td>\n",
       "      <td>65.0</td>\n",
       "      <td>70.0</td>\n",
       "      <td>8.0</td>\n",
       "      <td>...</td>\n",
       "      <td>195</td>\n",
       "      <td>4</td>\n",
       "      <td>28</td>\n",
       "      <td>7</td>\n",
       "      <td>7</td>\n",
       "      <td>0</td>\n",
       "      <td>0</td>\n",
       "      <td>0</td>\n",
       "      <td>1</td>\n",
       "      <td>0</td>\n",
       "    </tr>\n",
       "    <tr>\n",
       "      <th>2017-07-14 08:00:00</th>\n",
       "      <td>7249.992</td>\n",
       "      <td>65.0</td>\n",
       "      <td>64.0</td>\n",
       "      <td>65.0</td>\n",
       "      <td>97.0</td>\n",
       "      <td>30.06</td>\n",
       "      <td>6.0</td>\n",
       "      <td>65.0</td>\n",
       "      <td>80.0</td>\n",
       "      <td>10.0</td>\n",
       "      <td>...</td>\n",
       "      <td>195</td>\n",
       "      <td>4</td>\n",
       "      <td>28</td>\n",
       "      <td>7</td>\n",
       "      <td>8</td>\n",
       "      <td>0</td>\n",
       "      <td>0</td>\n",
       "      <td>0</td>\n",
       "      <td>1</td>\n",
       "      <td>0</td>\n",
       "    </tr>\n",
       "    <tr>\n",
       "      <th>2017-07-14 09:00:00</th>\n",
       "      <td>7463.567</td>\n",
       "      <td>66.0</td>\n",
       "      <td>64.0</td>\n",
       "      <td>66.0</td>\n",
       "      <td>93.0</td>\n",
       "      <td>30.07</td>\n",
       "      <td>8.0</td>\n",
       "      <td>66.0</td>\n",
       "      <td>60.0</td>\n",
       "      <td>10.0</td>\n",
       "      <td>...</td>\n",
       "      <td>195</td>\n",
       "      <td>4</td>\n",
       "      <td>28</td>\n",
       "      <td>7</td>\n",
       "      <td>9</td>\n",
       "      <td>0</td>\n",
       "      <td>0</td>\n",
       "      <td>0</td>\n",
       "      <td>1</td>\n",
       "      <td>0</td>\n",
       "    </tr>\n",
       "  </tbody>\n",
       "</table>\n",
       "<p>5 rows × 23 columns</p>\n",
       "</div>"
      ],
      "text/plain": [
       "                       target  temp  dwpt  heat_idx    rh  pressure   vis  \\\n",
       "2017-07-14 05:00:00  6196.292  66.0  65.0      66.0  96.0     30.03   8.0   \n",
       "2017-07-14 06:00:00  6525.258  65.0  64.0      65.0  97.0     30.05  10.0   \n",
       "2017-07-14 07:00:00  6934.592  65.0  64.0      65.0  97.0     30.07   5.0   \n",
       "2017-07-14 08:00:00  7249.992  65.0  64.0      65.0  97.0     30.06   6.0   \n",
       "2017-07-14 09:00:00  7463.567  66.0  64.0      66.0  93.0     30.07   8.0   \n",
       "\n",
       "                       wc  wdir  wspd  ...  day_of_year  weekday  week  month  \\\n",
       "2017-07-14 05:00:00  66.0  50.0  15.0  ...          195        4    28      7   \n",
       "2017-07-14 06:00:00  65.0  70.0  13.0  ...          195        4    28      7   \n",
       "2017-07-14 07:00:00  65.0  70.0   8.0  ...          195        4    28      7   \n",
       "2017-07-14 08:00:00  65.0  80.0  10.0  ...          195        4    28      7   \n",
       "2017-07-14 09:00:00  66.0  60.0  10.0  ...          195        4    28      7   \n",
       "\n",
       "                     hour  cloud_cover_BKN  cloud_cover_CLR  cloud_cover_FEW  \\\n",
       "2017-07-14 05:00:00     5                0                0                0   \n",
       "2017-07-14 06:00:00     6                0                0                0   \n",
       "2017-07-14 07:00:00     7                0                0                0   \n",
       "2017-07-14 08:00:00     8                0                0                0   \n",
       "2017-07-14 09:00:00     9                0                0                0   \n",
       "\n",
       "                     cloud_cover_OVC  cloud_cover_SCT  \n",
       "2017-07-14 05:00:00                1                0  \n",
       "2017-07-14 06:00:00                1                0  \n",
       "2017-07-14 07:00:00                1                0  \n",
       "2017-07-14 08:00:00                1                0  \n",
       "2017-07-14 09:00:00                1                0  \n",
       "\n",
       "[5 rows x 23 columns]"
      ]
     },
     "execution_count": 2,
     "metadata": {},
     "output_type": "execute_result"
    }
   ],
   "source": [
    "val_split = 0.2\n",
    "\n",
    "train, test = utils.load_data(random=False, hourly=True)\n",
    "\n",
    "# train = utils.one_hot_calendar_vals(train)\n",
    "# test = utils.one_hot_calendar_vals(test)\n",
    "\n",
    "vidx = int(len(train) * (1 - val_split))\n",
    "train, validate = train[vidx:], train[:vidx]\n",
    "train.head()"
   ]
  },
  {
   "cell_type": "code",
   "execution_count": 3,
   "metadata": {},
   "outputs": [],
   "source": [
    "train_labels = np.array(train['target']).reshape(-1, 1)\n",
    "train.drop(columns=['target'], inplace=True)\n",
    "\n",
    "validate_labels = np.array(validate['target']).reshape(-1, 1)\n",
    "validate.drop(columns=['target'], inplace=True)\n",
    "\n",
    "test_labels = np.array(test['target']).reshape(-1, 1)\n",
    "test.drop(columns=['target'], inplace=True)\n",
    "\n",
    "cols = train.columns"
   ]
  },
  {
   "cell_type": "code",
   "execution_count": 4,
   "metadata": {},
   "outputs": [],
   "source": [
    "scaler = StandardScaler()\n",
    "train = scaler.fit_transform(train)\n",
    "validate = scaler.transform(validate)\n",
    "test = scaler.transform(test)\n",
    "\n",
    "label_scaler = StandardScaler()\n",
    "train_labels = label_scaler.fit_transform(train_labels)\n",
    "validate_labels = label_scaler.transform(validate_labels)\n",
    "test_labels = label_scaler.transform(test_labels)"
   ]
  },
  {
   "cell_type": "code",
   "execution_count": 5,
   "metadata": {},
   "outputs": [],
   "source": [
    "# shift the target samples by one step to the right so that TSGen picks up correct label\n",
    "\n",
    "train_labels = np.insert(train_labels, 0, 0)[:-1]\n",
    "validate_labels = np.insert(validate_labels, 0, 0)[:-1]\n",
    "test_labels = np.insert(test_labels, 0, 0)[:-1]"
   ]
  },
  {
   "cell_type": "code",
   "execution_count": 6,
   "metadata": {},
   "outputs": [],
   "source": [
    "timesteps = 12  # try using previous 4 days (4x24)\n",
    "steps_ahead = 1\n",
    "epochs = 5\n",
    "\n",
    "train_gen = TimeseriesGenerator(train, train_labels, length=timesteps,\n",
    "                                sampling_rate=1, batch_size=steps_ahead)\n",
    "validate_gen = TimeseriesGenerator(validate, validate_labels, length=timesteps,\n",
    "                              sampling_rate=1, batch_size=steps_ahead)\n",
    "\n",
    "# https://machinelearningmastery.com/how-to-use-the-timeseriesgenerator-for-time-series-forecasting-in-keras/"
   ]
  },
  {
   "cell_type": "code",
   "execution_count": 14,
   "metadata": {},
   "outputs": [],
   "source": [
    "model = Sequential()\n",
    "\n",
    "input_shape = (timesteps, train.shape[1])\n",
    "\n",
    "model.add(layers.LSTM(16, input_shape=input_shape))\n",
    "model.add(layers.Dropout(0.2))\n",
    "model.add(layers.Dense(1, name='output'))\n",
    "\n",
    "model.compile(loss='mse', optimizer='rmsprop', metrics=['mae'])"
   ]
  },
  {
   "cell_type": "code",
   "execution_count": 15,
   "metadata": {
    "scrolled": true
   },
   "outputs": [
    {
     "name": "stdout",
     "output_type": "stream",
     "text": [
      "Epoch 1/5\n",
      "23697/23697 [==============================] - 452s 19ms/step - loss: 0.1384 - mean_absolute_error: 0.2750 - val_loss: 0.7982 - val_mean_absolute_error: 0.5687\n",
      "Epoch 2/5\n",
      "23697/23697 [==============================] - 360s 15ms/step - loss: 0.0851 - mean_absolute_error: 0.2159 - val_loss: 0.6774 - val_mean_absolute_error: 0.5496\n",
      "Epoch 3/5\n",
      "23697/23697 [==============================] - 457s 19ms/step - loss: 0.0802 - mean_absolute_error: 0.2081 - val_loss: 0.5359 - val_mean_absolute_error: 0.4938\n",
      "Epoch 4/5\n",
      "23697/23697 [==============================] - 410s 17ms/step - loss: 0.0725 - mean_absolute_error: 0.1981 - val_loss: 0.4550 - val_mean_absolute_error: 0.4548\n",
      "Epoch 5/5\n",
      "23697/23697 [==============================] - 384s 16ms/step - loss: 0.0716 - mean_absolute_error: 0.1955 - val_loss: 0.5514 - val_mean_absolute_error: 0.4906\n"
     ]
    }
   ],
   "source": [
    "history = model.fit_generator(\n",
    "    train_gen,\n",
    "    epochs=epochs,\n",
    "    workers=4,\n",
    "    validation_data=validate_gen\n",
    ")"
   ]
  },
  {
   "cell_type": "code",
   "execution_count": 9,
   "metadata": {},
   "outputs": [
    {
     "data": {
      "image/png": "[encoded data removed]",
      "text/plain": [
       "<Figure size 432x288 with 1 Axes>"
      ]
     },
     "metadata": {},
     "output_type": "display_data"
    }
   ],
   "source": [
    "plt.plot(history.history['loss'], label='train')\n",
    "plt.plot(history.history['val_loss'], label='validate')\n",
    "plt.legend()\n",
    "plt.show()"
   ]
  },
  {
   "cell_type": "code",
   "execution_count": 10,
   "metadata": {},
   "outputs": [
    {
     "data": {
      "image/png": "[encoded data removed]",
      "text/plain": [
       "<Figure size 432x288 with 1 Axes>"
      ]
     },
     "metadata": {},
     "output_type": "display_data"
    }
   ],
   "source": [
    "plt.plot(history.history['mean_absolute_error'], label='train')\n",
    "plt.plot(history.history['val_mean_absolute_error'], label='validate')\n",
    "plt.legend()\n",
    "plt.show()"
   ]
  },
  {
   "cell_type": "code",
   "execution_count": 11,
   "metadata": {},
   "outputs": [],
   "source": [
    "test_gen = TimeseriesGenerator(test, test_labels, length=timesteps,\n",
    "                                sampling_rate=1, batch_size=steps_ahead)\n",
    "\n",
    "pred = model.predict_generator(test_gen)"
   ]
  },
  {
   "cell_type": "code",
   "execution_count": 12,
   "metadata": {},
   "outputs": [],
   "source": [
    "# get the ISO hourly forecasts and clean them up\n",
    "isolf = utils.isolf_hourly()\n",
    "\n",
    "# get predictions made on day X for day X (which means the forecast for day X posted on day X)\n",
    "isolf = isolf.loc[isolf['date_pred_for'].dt.date == isolf['date_pred_made'].dt.date]\n",
    "isolf = isolf.set_index('date_pred_for')"
   ]
  },
  {
   "cell_type": "code",
   "execution_count": 13,
   "metadata": {},
   "outputs": [
    {
     "ename": "AttributeError",
     "evalue": "'numpy.ndarray' object has no attribute 'join'",
     "output_type": "error",
     "traceback": [
      "\u001b[0;31m---------------------------------------------------------------------------\u001b[0m",
      "\u001b[0;31mAttributeError\u001b[0m                            Traceback (most recent call last)",
      "\u001b[0;32m<ipython-input-13-9356079dae50>\u001b[0m in \u001b[0;36m<module>\u001b[0;34m\u001b[0m\n\u001b[0;32m----> 1\u001b[0;31m \u001b[0mresults\u001b[0m \u001b[0;34m=\u001b[0m \u001b[0mtest\u001b[0m\u001b[0;34m.\u001b[0m\u001b[0mjoin\u001b[0m\u001b[0;34m(\u001b[0m\u001b[0misolf\u001b[0m\u001b[0;34m,\u001b[0m \u001b[0mhow\u001b[0m\u001b[0;34m=\u001b[0m\u001b[0;34m'inner'\u001b[0m\u001b[0;34m)\u001b[0m\u001b[0;34m\u001b[0m\u001b[0;34m\u001b[0m\u001b[0m\n\u001b[0m\u001b[1;32m      2\u001b[0m \u001b[0mresults\u001b[0m\u001b[0;34m[\u001b[0m\u001b[0;34m'prediction'\u001b[0m\u001b[0;34m]\u001b[0m \u001b[0;34m=\u001b[0m \u001b[0mpredictions\u001b[0m\u001b[0;34m\u001b[0m\u001b[0;34m\u001b[0m\u001b[0m\n\u001b[1;32m      3\u001b[0m \u001b[0mresults\u001b[0m\u001b[0;34m[\u001b[0m\u001b[0;34m'target'\u001b[0m\u001b[0;34m]\u001b[0m \u001b[0;34m*=\u001b[0m \u001b[0mstd\u001b[0m\u001b[0;34m.\u001b[0m\u001b[0mtarget\u001b[0m\u001b[0;34m\u001b[0m\u001b[0;34m\u001b[0m\u001b[0m\n\u001b[1;32m      4\u001b[0m \u001b[0mresults\u001b[0m\u001b[0;34m[\u001b[0m\u001b[0;34m'target'\u001b[0m\u001b[0;34m]\u001b[0m \u001b[0;34m+=\u001b[0m \u001b[0mmean\u001b[0m\u001b[0;34m.\u001b[0m\u001b[0mtarget\u001b[0m\u001b[0;34m\u001b[0m\u001b[0;34m\u001b[0m\u001b[0m\n\u001b[1;32m      5\u001b[0m \u001b[0mresults\u001b[0m\u001b[0;34m[\u001b[0m\u001b[0;34m'prediction'\u001b[0m\u001b[0;34m]\u001b[0m \u001b[0;34m*=\u001b[0m \u001b[0mstd\u001b[0m\u001b[0;34m.\u001b[0m\u001b[0mtarget\u001b[0m\u001b[0;34m\u001b[0m\u001b[0;34m\u001b[0m\u001b[0m\n",
      "\u001b[0;31mAttributeError\u001b[0m: 'numpy.ndarray' object has no attribute 'join'"
     ]
    }
   ],
   "source": [
    "# results = test.join(isolf, how='inner')\n",
    "# results['prediction'] = predictions\n",
    "# results['target'] *= std.target\n",
    "# results['target'] += mean.target\n",
    "# results['prediction'] *= std.target\n",
    "# results['prediction'] += mean.target\n",
    "\n",
    "# results['date'] = results.index\n",
    "# results = results.astype({'prediction': 'float'})\n",
    "\n",
    "# results, pred_plot = model_scoring.eval(results)"
   ]
  }
 ],
 "metadata": {
  "kernelspec": {
   "display_name": "venv",
   "language": "python",
   "name": "venv"
  },
  "language_info": {
   "codemirror_mode": {
    "name": "ipython",
    "version": 3
   },
   "file_extension": ".py",
   "mimetype": "text/x-python",
   "name": "python",
   "nbconvert_exporter": "python",
   "pygments_lexer": "ipython3",
   "version": "3.7.5"
  }
 },
 "nbformat": 4,
 "nbformat_minor": 4
}
