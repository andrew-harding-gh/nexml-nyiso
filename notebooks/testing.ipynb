{
 "cells": [
  {
   "cell_type": "code",
   "execution_count": 1,
   "metadata": {},
   "outputs": [
    {
     "name": "stderr",
     "output_type": "stream",
     "text": [
      "C:\\ProgramData\\Miniconda3\\lib\\site-packages\\statsmodels\\tools\\_testing.py:19: FutureWarning: pandas.util.testing is deprecated. Use the functions in the public API at pandas.testing instead.\n",
      "  import pandas.util.testing as tm\n",
      "Using plaidml.keras.backend backend.\n"
     ]
    }
   ],
   "source": [
    "import os\n",
    "os.environ[\"KERAS_BACKEND\"] = \"plaidml.keras.backend\"  # or choose another backend if you wish\n",
    "import pandas as pd\n",
    "from bokeh.plotting import figure, output_file, show\n",
    "from bokeh.models import ColumnDataSource, DatetimeTickFormatter\n",
    "from bokeh.models.tools import HoverTool\n",
    "from bokeh.io import output_notebook\n",
    "import sklearn\n",
    "import seaborn as sns; sns.set()\n",
    "import matplotlib.pyplot as plt\n",
    "import datetime\n",
    "import keras\n",
    "from keras.models import Sequential, Model\n",
    "from keras.layers import Embedding, Flatten, Dense, Dropout, Input\n",
    "\n",
    "%matplotlib inline"
   ]
  },
  {
   "cell_type": "code",
   "execution_count": 2,
   "metadata": {},
   "outputs": [],
   "source": [
    "start_date = datetime.datetime(2005, 2, 1)\n",
    "end_date = datetime.datetime(2020, 3, 30)  # move these dates to a utility or constants file and import"
   ]
  },
  {
   "cell_type": "code",
   "execution_count": 3,
   "metadata": {},
   "outputs": [],
   "source": [
    "def date_filter(df, date_col):\n",
    "    return df.loc[(df[date_col] >= start_date) & (df[date_col] <= end_date)]"
   ]
  },
  {
   "cell_type": "code",
   "execution_count": 4,
   "metadata": {},
   "outputs": [],
   "source": [
    "def load_weather_data():\n",
    "    df = pd.read_csv('../data/central_park_weather_data.csv', dtype='object')\n",
    "    df['DATE'] = pd.to_datetime(df['DATE'])\n",
    "    df['weekday'] = df.DATE.dt.weekday\n",
    "    df['week'] = df.DATE.dt.week\n",
    "    df['month'] = df.DATE.dt.month\n",
    "    df['year'] = df.DATE.dt.year\n",
    "    df['TMAX'] = df['TMAX'].astype('float')\n",
    "    df['TMIN'] = df['TMIN'].astype('float')\n",
    "    df['PRCP'] = df['PRCP'].astype('float')\n",
    "    df = date_filter(df, 'DATE')\n",
    "    return df"
   ]
  },
  {
   "cell_type": "code",
   "execution_count": 5,
   "metadata": {},
   "outputs": [
    {
     "data": {
      "text/html": [
       "<div>\n",
       "<style scoped>\n",
       "    .dataframe tbody tr th:only-of-type {\n",
       "        vertical-align: middle;\n",
       "    }\n",
       "\n",
       "    .dataframe tbody tr th {\n",
       "        vertical-align: top;\n",
       "    }\n",
       "\n",
       "    .dataframe thead th {\n",
       "        text-align: right;\n",
       "    }\n",
       "</style>\n",
       "<table border=\"1\" class=\"dataframe\">\n",
       "  <thead>\n",
       "    <tr style=\"text-align: right;\">\n",
       "      <th></th>\n",
       "      <th>STATION</th>\n",
       "      <th>NAME</th>\n",
       "      <th>LATITUDE</th>\n",
       "      <th>LONGITUDE</th>\n",
       "      <th>ELEVATION</th>\n",
       "      <th>ACMH</th>\n",
       "      <th>ACMH_ATTRIBUTES</th>\n",
       "      <th>ACSH</th>\n",
       "      <th>ACSH_ATTRIBUTES</th>\n",
       "      <th>AWND</th>\n",
       "      <th>...</th>\n",
       "      <th>WT19</th>\n",
       "      <th>WT19_ATTRIBUTES</th>\n",
       "      <th>WT21</th>\n",
       "      <th>WT21_ATTRIBUTES</th>\n",
       "      <th>WT22</th>\n",
       "      <th>WT22_ATTRIBUTES</th>\n",
       "      <th>weekday</th>\n",
       "      <th>week</th>\n",
       "      <th>month</th>\n",
       "      <th>year</th>\n",
       "    </tr>\n",
       "    <tr>\n",
       "      <th>DATE</th>\n",
       "      <th></th>\n",
       "      <th></th>\n",
       "      <th></th>\n",
       "      <th></th>\n",
       "      <th></th>\n",
       "      <th></th>\n",
       "      <th></th>\n",
       "      <th></th>\n",
       "      <th></th>\n",
       "      <th></th>\n",
       "      <th></th>\n",
       "      <th></th>\n",
       "      <th></th>\n",
       "      <th></th>\n",
       "      <th></th>\n",
       "      <th></th>\n",
       "      <th></th>\n",
       "      <th></th>\n",
       "      <th></th>\n",
       "      <th></th>\n",
       "      <th></th>\n",
       "    </tr>\n",
       "  </thead>\n",
       "  <tbody>\n",
       "    <tr>\n",
       "      <th>2005-02-01</th>\n",
       "      <td>USW00094728</td>\n",
       "      <td>NY CITY CENTRAL PARK, NY US</td>\n",
       "      <td>40.77898</td>\n",
       "      <td>-73.96925</td>\n",
       "      <td>42.7</td>\n",
       "      <td>NaN</td>\n",
       "      <td>NaN</td>\n",
       "      <td>NaN</td>\n",
       "      <td>NaN</td>\n",
       "      <td>2.68</td>\n",
       "      <td>...</td>\n",
       "      <td>NaN</td>\n",
       "      <td>NaN</td>\n",
       "      <td>NaN</td>\n",
       "      <td>NaN</td>\n",
       "      <td>NaN</td>\n",
       "      <td>NaN</td>\n",
       "      <td>1</td>\n",
       "      <td>5</td>\n",
       "      <td>2</td>\n",
       "      <td>2005</td>\n",
       "    </tr>\n",
       "    <tr>\n",
       "      <th>2005-02-02</th>\n",
       "      <td>USW00094728</td>\n",
       "      <td>NY CITY CENTRAL PARK, NY US</td>\n",
       "      <td>40.77898</td>\n",
       "      <td>-73.96925</td>\n",
       "      <td>42.7</td>\n",
       "      <td>NaN</td>\n",
       "      <td>NaN</td>\n",
       "      <td>NaN</td>\n",
       "      <td>NaN</td>\n",
       "      <td>5.14</td>\n",
       "      <td>...</td>\n",
       "      <td>NaN</td>\n",
       "      <td>NaN</td>\n",
       "      <td>NaN</td>\n",
       "      <td>NaN</td>\n",
       "      <td>NaN</td>\n",
       "      <td>NaN</td>\n",
       "      <td>2</td>\n",
       "      <td>5</td>\n",
       "      <td>2</td>\n",
       "      <td>2005</td>\n",
       "    </tr>\n",
       "    <tr>\n",
       "      <th>2005-02-03</th>\n",
       "      <td>USW00094728</td>\n",
       "      <td>NY CITY CENTRAL PARK, NY US</td>\n",
       "      <td>40.77898</td>\n",
       "      <td>-73.96925</td>\n",
       "      <td>42.7</td>\n",
       "      <td>NaN</td>\n",
       "      <td>NaN</td>\n",
       "      <td>NaN</td>\n",
       "      <td>NaN</td>\n",
       "      <td>7.61</td>\n",
       "      <td>...</td>\n",
       "      <td>1</td>\n",
       "      <td>,,X</td>\n",
       "      <td>NaN</td>\n",
       "      <td>NaN</td>\n",
       "      <td>NaN</td>\n",
       "      <td>NaN</td>\n",
       "      <td>3</td>\n",
       "      <td>5</td>\n",
       "      <td>2</td>\n",
       "      <td>2005</td>\n",
       "    </tr>\n",
       "    <tr>\n",
       "      <th>2005-02-04</th>\n",
       "      <td>USW00094728</td>\n",
       "      <td>NY CITY CENTRAL PARK, NY US</td>\n",
       "      <td>40.77898</td>\n",
       "      <td>-73.96925</td>\n",
       "      <td>42.7</td>\n",
       "      <td>NaN</td>\n",
       "      <td>NaN</td>\n",
       "      <td>NaN</td>\n",
       "      <td>NaN</td>\n",
       "      <td>6.71</td>\n",
       "      <td>...</td>\n",
       "      <td>1</td>\n",
       "      <td>,,X</td>\n",
       "      <td>NaN</td>\n",
       "      <td>NaN</td>\n",
       "      <td>NaN</td>\n",
       "      <td>NaN</td>\n",
       "      <td>4</td>\n",
       "      <td>5</td>\n",
       "      <td>2</td>\n",
       "      <td>2005</td>\n",
       "    </tr>\n",
       "    <tr>\n",
       "      <th>2005-02-05</th>\n",
       "      <td>USW00094728</td>\n",
       "      <td>NY CITY CENTRAL PARK, NY US</td>\n",
       "      <td>40.77898</td>\n",
       "      <td>-73.96925</td>\n",
       "      <td>42.7</td>\n",
       "      <td>NaN</td>\n",
       "      <td>NaN</td>\n",
       "      <td>NaN</td>\n",
       "      <td>NaN</td>\n",
       "      <td>6.26</td>\n",
       "      <td>...</td>\n",
       "      <td>NaN</td>\n",
       "      <td>NaN</td>\n",
       "      <td>NaN</td>\n",
       "      <td>NaN</td>\n",
       "      <td>NaN</td>\n",
       "      <td>NaN</td>\n",
       "      <td>5</td>\n",
       "      <td>5</td>\n",
       "      <td>2</td>\n",
       "      <td>2005</td>\n",
       "    </tr>\n",
       "  </tbody>\n",
       "</table>\n",
       "<p>5 rows × 111 columns</p>\n",
       "</div>"
      ],
      "text/plain": [
       "                STATION                         NAME  LATITUDE  LONGITUDE  \\\n",
       "DATE                                                                        \n",
       "2005-02-01  USW00094728  NY CITY CENTRAL PARK, NY US  40.77898  -73.96925   \n",
       "2005-02-02  USW00094728  NY CITY CENTRAL PARK, NY US  40.77898  -73.96925   \n",
       "2005-02-03  USW00094728  NY CITY CENTRAL PARK, NY US  40.77898  -73.96925   \n",
       "2005-02-04  USW00094728  NY CITY CENTRAL PARK, NY US  40.77898  -73.96925   \n",
       "2005-02-05  USW00094728  NY CITY CENTRAL PARK, NY US  40.77898  -73.96925   \n",
       "\n",
       "           ELEVATION ACMH ACMH_ATTRIBUTES ACSH ACSH_ATTRIBUTES  AWND  ...  \\\n",
       "DATE                                                                  ...   \n",
       "2005-02-01      42.7  NaN             NaN  NaN             NaN  2.68  ...   \n",
       "2005-02-02      42.7  NaN             NaN  NaN             NaN  5.14  ...   \n",
       "2005-02-03      42.7  NaN             NaN  NaN             NaN  7.61  ...   \n",
       "2005-02-04      42.7  NaN             NaN  NaN             NaN  6.71  ...   \n",
       "2005-02-05      42.7  NaN             NaN  NaN             NaN  6.26  ...   \n",
       "\n",
       "             WT19 WT19_ATTRIBUTES WT21 WT21_ATTRIBUTES WT22 WT22_ATTRIBUTES  \\\n",
       "DATE                                                                          \n",
       "2005-02-01    NaN             NaN  NaN             NaN  NaN             NaN   \n",
       "2005-02-02    NaN             NaN  NaN             NaN  NaN             NaN   \n",
       "2005-02-03      1             ,,X  NaN             NaN  NaN             NaN   \n",
       "2005-02-04      1             ,,X  NaN             NaN  NaN             NaN   \n",
       "2005-02-05    NaN             NaN  NaN             NaN  NaN             NaN   \n",
       "\n",
       "           weekday week month  year  \n",
       "DATE                                 \n",
       "2005-02-01       1    5     2  2005  \n",
       "2005-02-02       2    5     2  2005  \n",
       "2005-02-03       3    5     2  2005  \n",
       "2005-02-04       4    5     2  2005  \n",
       "2005-02-05       5    5     2  2005  \n",
       "\n",
       "[5 rows x 111 columns]"
      ]
     },
     "execution_count": 5,
     "metadata": {},
     "output_type": "execute_result"
    }
   ],
   "source": [
    "weather = load_weather_data()\n",
    "weather.set_index('DATE', inplace=True)\n",
    "weather.head()"
   ]
  },
  {
   "cell_type": "code",
   "execution_count": 6,
   "metadata": {},
   "outputs": [],
   "source": [
    "def load_pal_data():\n",
    "    df = pd.read_csv('../data/nyiso_pal_master.csv')\n",
    "    df['Time Stamp'] = pd.to_datetime(df['Time Stamp'])\n",
    "    df.drop(['Name', 'PTID'], axis=1, inplace=True)\n",
    "    df.rename(columns={'min': 'pal_min', 'max': 'pal_max', 'mean': 'pal_mean'}, inplace=True)\n",
    "    return df"
   ]
  },
  {
   "cell_type": "code",
   "execution_count": 7,
   "metadata": {},
   "outputs": [
    {
     "data": {
      "text/html": [
       "<div>\n",
       "<style scoped>\n",
       "    .dataframe tbody tr th:only-of-type {\n",
       "        vertical-align: middle;\n",
       "    }\n",
       "\n",
       "    .dataframe tbody tr th {\n",
       "        vertical-align: top;\n",
       "    }\n",
       "\n",
       "    .dataframe thead th {\n",
       "        text-align: right;\n",
       "    }\n",
       "</style>\n",
       "<table border=\"1\" class=\"dataframe\">\n",
       "  <thead>\n",
       "    <tr style=\"text-align: right;\">\n",
       "      <th></th>\n",
       "      <th>pal_min</th>\n",
       "      <th>pal_max</th>\n",
       "      <th>pal_mean</th>\n",
       "    </tr>\n",
       "    <tr>\n",
       "      <th>Time Stamp</th>\n",
       "      <th></th>\n",
       "      <th></th>\n",
       "      <th></th>\n",
       "    </tr>\n",
       "  </thead>\n",
       "  <tbody>\n",
       "    <tr>\n",
       "      <th>2011-04-01</th>\n",
       "      <td>4327.3</td>\n",
       "      <td>6665.2</td>\n",
       "      <td>5804.383624</td>\n",
       "    </tr>\n",
       "    <tr>\n",
       "      <th>2011-04-02</th>\n",
       "      <td>4320.8</td>\n",
       "      <td>5717.3</td>\n",
       "      <td>5142.040625</td>\n",
       "    </tr>\n",
       "    <tr>\n",
       "      <th>2011-04-03</th>\n",
       "      <td>4181.5</td>\n",
       "      <td>5691.4</td>\n",
       "      <td>4982.166436</td>\n",
       "    </tr>\n",
       "    <tr>\n",
       "      <th>2011-04-04</th>\n",
       "      <td>4144.2</td>\n",
       "      <td>6461.6</td>\n",
       "      <td>5643.067474</td>\n",
       "    </tr>\n",
       "    <tr>\n",
       "      <th>2011-04-05</th>\n",
       "      <td>4143.5</td>\n",
       "      <td>6566.4</td>\n",
       "      <td>5682.628819</td>\n",
       "    </tr>\n",
       "  </tbody>\n",
       "</table>\n",
       "</div>"
      ],
      "text/plain": [
       "            pal_min  pal_max     pal_mean\n",
       "Time Stamp                               \n",
       "2011-04-01   4327.3   6665.2  5804.383624\n",
       "2011-04-02   4320.8   5717.3  5142.040625\n",
       "2011-04-03   4181.5   5691.4  4982.166436\n",
       "2011-04-04   4144.2   6461.6  5643.067474\n",
       "2011-04-05   4143.5   6566.4  5682.628819"
      ]
     },
     "execution_count": 7,
     "metadata": {},
     "output_type": "execute_result"
    }
   ],
   "source": [
    "pal = date_filter(load_pal_data(), 'Time Stamp')\n",
    "pal.set_index('Time Stamp', inplace=True)\n",
    "pal.head()"
   ]
  },
  {
   "cell_type": "code",
   "execution_count": 8,
   "metadata": {},
   "outputs": [
    {
     "data": {
      "text/plain": [
       "(5513, 114)"
      ]
     },
     "execution_count": 8,
     "metadata": {},
     "output_type": "execute_result"
    }
   ],
   "source": [
    "merged = pal.join(weather, how='inner')\n",
    "merged.shape"
   ]
  },
  {
   "cell_type": "code",
   "execution_count": 9,
   "metadata": {},
   "outputs": [],
   "source": [
    "merged.drop(merged.columns[merged.isna().any()].tolist(), axis=1, inplace=True)"
   ]
  },
  {
   "cell_type": "code",
   "execution_count": 10,
   "metadata": {},
   "outputs": [
    {
     "data": {
      "text/plain": [
       "Index(['pal_min', 'pal_max', 'pal_mean', 'STATION', 'NAME', 'LATITUDE',\n",
       "       'LONGITUDE', 'ELEVATION', 'PRCP', 'PRCP_ATTRIBUTES', 'SNWD',\n",
       "       'SNWD_ATTRIBUTES', 'TMAX', 'TMAX_ATTRIBUTES', 'TMIN', 'TMIN_ATTRIBUTES',\n",
       "       'weekday', 'week', 'month', 'year'],\n",
       "      dtype='object')"
      ]
     },
     "execution_count": 10,
     "metadata": {},
     "output_type": "execute_result"
    }
   ],
   "source": [
    "merged.columns\n"
   ]
  },
  {
   "cell_type": "code",
   "execution_count": 11,
   "metadata": {},
   "outputs": [],
   "source": [
    "from sklearn.model_selection import train_test_split\n",
    "from sklearn.preprocessing import StandardScaler\n",
    "\n",
    "features = ['PRCP', 'SNWD', 'TMAX', 'TMIN', 'weekday', 'week', 'month', 'year']\n",
    "target = ['pal_mean']\n",
    "\n",
    "y = merged[target]\n",
    "X = merged[features]\n",
    "\n",
    "X_train, X_test, y_train, y_test = train_test_split(X, y, test_size=0.2, random_state=123)\n",
    "\n",
    "scaler = StandardScaler()\n",
    "scaler.fit(X_train)\n",
    "\n",
    "X_train = scaler.transform(X_train)\n",
    "X_test = scaler.transform(X_test)"
   ]
  },
  {
   "cell_type": "code",
   "execution_count": 12,
   "metadata": {},
   "outputs": [
    {
     "name": "stdout",
     "output_type": "stream",
     "text": [
      "Score: 0.42943673189396503\n"
     ]
    },
    {
     "data": {
      "image/png": "[encoded data removed]",
      "text/plain": [
       "<Figure size 432x288 with 1 Axes>"
      ]
     },
     "metadata": {
      "needs_background": "light"
     },
     "output_type": "display_data"
    }
   ],
   "source": [
    "from sklearn import linear_model\n",
    "\n",
    "lm = linear_model.LinearRegression()\n",
    "model = lm.fit(X_train, y_train)\n",
    "predictions = lm.predict(X_test)\n",
    "\n",
    "plt.scatter(y_test, predictions)\n",
    "plt.xlabel('True Values')\n",
    "plt.ylabel('Predictions')\n",
    "\n",
    "print(f'Score: {model.score(X_test, y_test)}')"
   ]
  },
  {
   "cell_type": "markdown",
   "metadata": {},
   "source": [
    "#### Interesting. 43% score matches the first epoch in the loss function of our Keras NN. Is this related?"
   ]
  },
  {
   "cell_type": "code",
   "execution_count": 13,
   "metadata": {},
   "outputs": [
    {
     "data": {
      "text/plain": [
       "6"
      ]
     },
     "execution_count": 13,
     "metadata": {},
     "output_type": "execute_result"
    }
   ],
   "source": [
    "from sklearn.decomposition import PCA\n",
    "\n",
    "pca = PCA(n_components=0.95)  # get number of PC to ensure 95% of variance captured\n",
    "pca.fit(X_train)\n",
    "\n",
    "# apply\n",
    "X_train = pca.transform(X_train)\n",
    "X_test = pca.transform(X_test)\n",
    "pca.n_components_"
   ]
  },
  {
   "cell_type": "code",
   "execution_count": 14,
   "metadata": {},
   "outputs": [
    {
     "name": "stdout",
     "output_type": "stream",
     "text": [
      "Score: 0.40864246585720065\n"
     ]
    },
    {
     "data": {
      "image/png": "[encoded data removed]",
      "text/plain": [
       "<Figure size 432x288 with 1 Axes>"
      ]
     },
     "metadata": {
      "needs_background": "light"
     },
     "output_type": "display_data"
    }
   ],
   "source": [
    "lm = linear_model.LinearRegression()\n",
    "model = lm.fit(X_train, y_train)\n",
    "predictions = lm.predict(X_test)\n",
    "\n",
    "plt.scatter(y_test, predictions)\n",
    "plt.xlabel('True Values')\n",
    "plt.ylabel('Predictions')\n",
    "\n",
    "print(f'Score: {model.score(X_test, y_test)}')"
   ]
  },
  {
   "cell_type": "markdown",
   "metadata": {},
   "source": [
    "#### PCA actually lowers our predictive ability. This implies we need more features? "
   ]
  }
 ],
 "metadata": {
  "kernelspec": {
   "display_name": "venv",
   "language": "python",
   "name": "venv"
  },
  "language_info": {
   "codemirror_mode": {
    "name": "ipython",
    "version": 3
   },
   "file_extension": ".py",
   "mimetype": "text/x-python",
   "name": "python",
   "nbconvert_exporter": "python",
   "pygments_lexer": "ipython3",
   "version": "3.7.4"
  }
 },
 "nbformat": 4,
 "nbformat_minor": 4
}
