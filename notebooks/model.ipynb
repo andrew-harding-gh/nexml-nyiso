{
 "cells": [
  {
   "cell_type": "code",
   "execution_count": 1,
   "metadata": {},
   "outputs": [
    {
     "name": "stderr",
     "output_type": "stream",
     "text": [
      "Using plaidml.keras.backend backend.\n"
     ]
    }
   ],
   "source": [
    "import os\n",
    "os.environ[\"KERAS_BACKEND\"] = \"plaidml.keras.backend\"  # or choose another backend if you wish\n",
    "import pandas as pd\n",
    "from bokeh.plotting import figure, output_file, show\n",
    "from bokeh.models import ColumnDataSource, DatetimeTickFormatter\n",
    "from bokeh.models.tools import HoverTool\n",
    "from bokeh.io import output_notebook\n",
    "import sklearn\n",
    "import seaborn as sns; sns.set()\n",
    "import matplotlib.pyplot as plt\n",
    "import datetime\n",
    "import keras\n",
    "from keras.models import Sequential, Model\n",
    "from keras.layers import Embedding, Flatten, Dense, Dropout, Input"
   ]
  },
  {
   "cell_type": "code",
   "execution_count": 2,
   "metadata": {},
   "outputs": [],
   "source": [
    "start_date = datetime.datetime(2005, 2, 1)\n",
    "end_date = datetime.datetime(2020, 3, 30)"
   ]
  },
  {
   "cell_type": "code",
   "execution_count": 3,
   "metadata": {},
   "outputs": [],
   "source": [
    "def date_filter(df):\n",
    "    return df.loc[(df.index >= start_date) & (df.index <= end_date)]"
   ]
  },
  {
   "cell_type": "code",
   "execution_count": 4,
   "metadata": {},
   "outputs": [],
   "source": [
    "def load_weather_data():\n",
    "    df = pd.read_csv('../data/central_park_weather_data.csv', dtype='object')\n",
    "    df['DATE'] = pd.to_datetime(df['DATE'])\n",
    "    df['weekday'] = df.DATE.dt.weekday\n",
    "    df['week'] = df.DATE.dt.week\n",
    "    df['month'] = df.DATE.dt.month\n",
    "    df['year'] = df.DATE.dt.year\n",
    "    df = df[df.DATE >= '20010101']\n",
    "    df['TMAX'] = df['TMAX'].astype('float')\n",
    "    df['TMIN'] = df['TMIN'].astype('float')\n",
    "    df['PRCP'] = df['PRCP'].astype('float')\n",
    "    return df[[\n",
    "        'weekday', \n",
    "        'week', \n",
    "        'month', \n",
    "        'PRCP',\n",
    "        'TMAX',\n",
    "        'TMIN',\n",
    "        'DATE',\n",
    "    ]].set_index('DATE').sort_index()"
   ]
  },
  {
   "cell_type": "code",
   "execution_count": 5,
   "metadata": {},
   "outputs": [],
   "source": [
    "weather_data = load_weather_data()"
   ]
  },
  {
   "cell_type": "code",
   "execution_count": 6,
   "metadata": {},
   "outputs": [],
   "source": [
    "def load_pal_data():\n",
    "    df = pd.read_csv('../data/nyiso_pal_master.csv')\n",
    "    df['Time Stamp'] = pd.to_datetime(df['Time Stamp'])\n",
    "    return df[[\n",
    "        'Time Stamp',\n",
    "        'min',\n",
    "        'max',\n",
    "        'mean',\n",
    "    ]].set_index('Time Stamp').sort_index().rename(columns={'min': 'pal_min', 'max': 'pal_max', 'mean': 'pal_mean'})"
   ]
  },
  {
   "cell_type": "code",
   "execution_count": 7,
   "metadata": {},
   "outputs": [
    {
     "name": "stdout",
     "output_type": "stream",
     "text": [
      "            weekday  week  month  PRCP  TMAX  TMIN\n",
      "DATE                                              \n",
      "2005-02-01        1     5      2  0.00  40.0  25.0\n",
      "2005-02-02        2     5      2  0.00  40.0  28.0\n",
      "2005-02-03        3     5      2  0.02  41.0  29.0\n",
      "2005-02-04        4     5      2  0.27  46.0  34.0\n",
      "2005-02-05        5     5      2  0.00  53.0  38.0\n",
      "            weekday  week  month  PRCP  TMAX  TMIN\n",
      "DATE                                              \n",
      "2020-03-26        3    13      3  0.00  60.0  38.0\n",
      "2020-03-27        4    13      3  0.00  69.0  50.0\n",
      "2020-03-28        5    13      3  0.45  54.0  44.0\n",
      "2020-03-29        6    13      3  0.05  47.0  44.0\n",
      "2020-03-30        0    14      3  0.04  52.0  41.0\n",
      "            pal_min  pal_max     pal_mean\n",
      "Time Stamp                               \n",
      "2005-02-01      0.0   7154.7  5580.662630\n",
      "2005-02-02      0.0   7153.9  5535.835517\n",
      "2005-02-03      0.0   7152.1  5514.954639\n",
      "2005-02-04      0.0   6890.1  5717.773469\n",
      "2005-02-05   4299.9   5990.4  5130.559122\n",
      "            pal_min  pal_max     pal_mean\n",
      "Time Stamp                               \n",
      "2020-03-26   4030.1   5179.7  4709.563448\n",
      "2020-03-27   3858.7   4962.8  4544.689236\n",
      "2020-03-28   3777.9   4997.0  4425.012329\n",
      "2020-03-29   3830.4   5029.9  4447.838255\n",
      "2020-03-30   3861.8   5104.3  4641.285374\n",
      "(5537, 6)\n",
      "(5513, 3)\n"
     ]
    }
   ],
   "source": [
    "weather_data = date_filter(weather_data)\n",
    "actual_load = load_pal_data()\n",
    "actual_load = date_filter(actual_load)\n",
    "print(weather_data.head())\n",
    "print(weather_data.tail())\n",
    "print(actual_load.head())\n",
    "print(actual_load.tail())\n",
    "print(weather_data.shape)\n",
    "print(actual_load.shape)"
   ]
  },
  {
   "cell_type": "code",
   "execution_count": 15,
   "metadata": {},
   "outputs": [
    {
     "name": "stdout",
     "output_type": "stream",
     "text": [
      "            pal_min  pal_max     pal_mean  weekday  week  month  PRCP  TMAX  \\\n",
      "2005-02-01      0.0   7154.7  5580.662630        1     5      2  0.00  40.0   \n",
      "2005-02-02      0.0   7153.9  5535.835517        2     5      2  0.00  40.0   \n",
      "2005-02-03      0.0   7152.1  5514.954639        3     5      2  0.02  41.0   \n",
      "2005-02-04      0.0   6890.1  5717.773469        4     5      2  0.27  46.0   \n",
      "2005-02-05   4299.9   5990.4  5130.559122        5     5      2  0.00  53.0   \n",
      "\n",
      "            TMIN  \n",
      "2005-02-01  25.0  \n",
      "2005-02-02  28.0  \n",
      "2005-02-03  29.0  \n",
      "2005-02-04  34.0  \n",
      "2005-02-05  38.0  \n",
      "(5513, 9)\n"
     ]
    }
   ],
   "source": [
    "merged = actual_load.join(weather_data, how='inner')\n",
    "print(merged.head())\n",
    "print(merged.shape)"
   ]
  },
  {
   "cell_type": "code",
   "execution_count": 19,
   "metadata": {},
   "outputs": [
    {
     "data": {
      "text/plain": [
       "False"
      ]
     },
     "execution_count": 19,
     "metadata": {},
     "output_type": "execute_result"
    }
   ],
   "source": [
    "merged.isnull().values.any()"
   ]
  },
  {
   "cell_type": "code",
   "execution_count": 23,
   "metadata": {},
   "outputs": [],
   "source": [
    "merged = merged.drop(columns=['pal_min', 'pal_max'])"
   ]
  },
  {
   "cell_type": "code",
   "execution_count": 24,
   "metadata": {},
   "outputs": [
    {
     "data": {
      "text/html": [
       "<div>\n",
       "<style scoped>\n",
       "    .dataframe tbody tr th:only-of-type {\n",
       "        vertical-align: middle;\n",
       "    }\n",
       "\n",
       "    .dataframe tbody tr th {\n",
       "        vertical-align: top;\n",
       "    }\n",
       "\n",
       "    .dataframe thead th {\n",
       "        text-align: right;\n",
       "    }\n",
       "</style>\n",
       "<table border=\"1\" class=\"dataframe\">\n",
       "  <thead>\n",
       "    <tr style=\"text-align: right;\">\n",
       "      <th></th>\n",
       "      <th>pal_mean</th>\n",
       "      <th>weekday</th>\n",
       "      <th>week</th>\n",
       "      <th>month</th>\n",
       "      <th>PRCP</th>\n",
       "      <th>TMAX</th>\n",
       "      <th>TMIN</th>\n",
       "    </tr>\n",
       "  </thead>\n",
       "  <tbody>\n",
       "    <tr>\n",
       "      <th>0</th>\n",
       "      <td>5572.271821</td>\n",
       "      <td>5</td>\n",
       "      <td>11</td>\n",
       "      <td>3</td>\n",
       "      <td>0.03</td>\n",
       "      <td>38.0</td>\n",
       "      <td>25.0</td>\n",
       "    </tr>\n",
       "    <tr>\n",
       "      <th>1</th>\n",
       "      <td>5505.481724</td>\n",
       "      <td>3</td>\n",
       "      <td>45</td>\n",
       "      <td>11</td>\n",
       "      <td>0.00</td>\n",
       "      <td>55.0</td>\n",
       "      <td>39.0</td>\n",
       "    </tr>\n",
       "    <tr>\n",
       "      <th>2</th>\n",
       "      <td>5372.493056</td>\n",
       "      <td>5</td>\n",
       "      <td>3</td>\n",
       "      <td>1</td>\n",
       "      <td>0.07</td>\n",
       "      <td>41.0</td>\n",
       "      <td>29.0</td>\n",
       "    </tr>\n",
       "    <tr>\n",
       "      <th>3</th>\n",
       "      <td>5116.046713</td>\n",
       "      <td>5</td>\n",
       "      <td>48</td>\n",
       "      <td>11</td>\n",
       "      <td>0.00</td>\n",
       "      <td>50.0</td>\n",
       "      <td>42.0</td>\n",
       "    </tr>\n",
       "    <tr>\n",
       "      <th>4</th>\n",
       "      <td>5609.457785</td>\n",
       "      <td>2</td>\n",
       "      <td>52</td>\n",
       "      <td>12</td>\n",
       "      <td>1.55</td>\n",
       "      <td>64.0</td>\n",
       "      <td>52.0</td>\n",
       "    </tr>\n",
       "  </tbody>\n",
       "</table>\n",
       "</div>"
      ],
      "text/plain": [
       "      pal_mean  weekday  week  month  PRCP  TMAX  TMIN\n",
       "0  5572.271821        5    11      3  0.03  38.0  25.0\n",
       "1  5505.481724        3    45     11  0.00  55.0  39.0\n",
       "2  5372.493056        5     3      1  0.07  41.0  29.0\n",
       "3  5116.046713        5    48     11  0.00  50.0  42.0\n",
       "4  5609.457785        2    52     12  1.55  64.0  52.0"
      ]
     },
     "execution_count": 24,
     "metadata": {},
     "output_type": "execute_result"
    }
   ],
   "source": [
    "merged = merged.sample(frac=1).reset_index(drop=True)\n",
    "merged.head()"
   ]
  },
  {
   "cell_type": "markdown",
   "metadata": {},
   "source": [
    "Now, we will normalize the data"
   ]
  },
  {
   "cell_type": "code",
   "execution_count": 25,
   "metadata": {},
   "outputs": [
    {
     "data": {
      "text/html": [
       "<div>\n",
       "<style scoped>\n",
       "    .dataframe tbody tr th:only-of-type {\n",
       "        vertical-align: middle;\n",
       "    }\n",
       "\n",
       "    .dataframe tbody tr th {\n",
       "        vertical-align: top;\n",
       "    }\n",
       "\n",
       "    .dataframe thead th {\n",
       "        text-align: right;\n",
       "    }\n",
       "</style>\n",
       "<table border=\"1\" class=\"dataframe\">\n",
       "  <thead>\n",
       "    <tr style=\"text-align: right;\">\n",
       "      <th></th>\n",
       "      <th>pal_mean</th>\n",
       "      <th>weekday</th>\n",
       "      <th>week</th>\n",
       "      <th>month</th>\n",
       "      <th>PRCP</th>\n",
       "      <th>TMAX</th>\n",
       "      <th>TMIN</th>\n",
       "    </tr>\n",
       "  </thead>\n",
       "  <tbody>\n",
       "    <tr>\n",
       "      <th>0</th>\n",
       "      <td>-0.547556</td>\n",
       "      <td>1.000318</td>\n",
       "      <td>-1.021544</td>\n",
       "      <td>-1.009380</td>\n",
       "      <td>-0.280993</td>\n",
       "      <td>-1.377508</td>\n",
       "      <td>-1.433024</td>\n",
       "    </tr>\n",
       "    <tr>\n",
       "      <th>1</th>\n",
       "      <td>-0.616546</td>\n",
       "      <td>0.000181</td>\n",
       "      <td>1.230980</td>\n",
       "      <td>1.303348</td>\n",
       "      <td>-0.355005</td>\n",
       "      <td>-0.442370</td>\n",
       "      <td>-0.590618</td>\n",
       "    </tr>\n",
       "    <tr>\n",
       "      <th>2</th>\n",
       "      <td>-0.753915</td>\n",
       "      <td>1.000318</td>\n",
       "      <td>-1.551550</td>\n",
       "      <td>-1.587562</td>\n",
       "      <td>-0.182311</td>\n",
       "      <td>-1.212484</td>\n",
       "      <td>-1.192336</td>\n",
       "    </tr>\n",
       "    <tr>\n",
       "      <th>3</th>\n",
       "      <td>-1.018808</td>\n",
       "      <td>1.000318</td>\n",
       "      <td>1.429732</td>\n",
       "      <td>1.303348</td>\n",
       "      <td>-0.355005</td>\n",
       "      <td>-0.717411</td>\n",
       "      <td>-0.410103</td>\n",
       "    </tr>\n",
       "    <tr>\n",
       "      <th>4</th>\n",
       "      <td>-0.509145</td>\n",
       "      <td>-0.499887</td>\n",
       "      <td>1.694735</td>\n",
       "      <td>1.592439</td>\n",
       "      <td>3.468934</td>\n",
       "      <td>0.052703</td>\n",
       "      <td>0.191616</td>\n",
       "    </tr>\n",
       "  </tbody>\n",
       "</table>\n",
       "</div>"
      ],
      "text/plain": [
       "   pal_mean   weekday      week     month      PRCP      TMAX      TMIN\n",
       "0 -0.547556  1.000318 -1.021544 -1.009380 -0.280993 -1.377508 -1.433024\n",
       "1 -0.616546  0.000181  1.230980  1.303348 -0.355005 -0.442370 -0.590618\n",
       "2 -0.753915  1.000318 -1.551550 -1.587562 -0.182311 -1.212484 -1.192336\n",
       "3 -1.018808  1.000318  1.429732  1.303348 -0.355005 -0.717411 -0.410103\n",
       "4 -0.509145 -0.499887  1.694735  1.592439  3.468934  0.052703  0.191616"
      ]
     },
     "execution_count": 25,
     "metadata": {},
     "output_type": "execute_result"
    }
   ],
   "source": [
    "mean = merged.mean(axis=0)\n",
    "merged -= mean\n",
    "std = merged.std(axis=0)\n",
    "merged /= std\n",
    "merged.head()"
   ]
  },
  {
   "cell_type": "code",
   "execution_count": 33,
   "metadata": {},
   "outputs": [
    {
     "data": {
      "text/html": [
       "<div>\n",
       "<style scoped>\n",
       "    .dataframe tbody tr th:only-of-type {\n",
       "        vertical-align: middle;\n",
       "    }\n",
       "\n",
       "    .dataframe tbody tr th {\n",
       "        vertical-align: top;\n",
       "    }\n",
       "\n",
       "    .dataframe thead th {\n",
       "        text-align: right;\n",
       "    }\n",
       "</style>\n",
       "<table border=\"1\" class=\"dataframe\">\n",
       "  <thead>\n",
       "    <tr style=\"text-align: right;\">\n",
       "      <th></th>\n",
       "      <th>weekday</th>\n",
       "      <th>week</th>\n",
       "      <th>month</th>\n",
       "      <th>PRCP</th>\n",
       "      <th>TMAX</th>\n",
       "      <th>TMIN</th>\n",
       "    </tr>\n",
       "  </thead>\n",
       "  <tbody>\n",
       "    <tr>\n",
       "      <th>482</th>\n",
       "      <td>-0.999955</td>\n",
       "      <td>0.767225</td>\n",
       "      <td>0.725166</td>\n",
       "      <td>-0.355005</td>\n",
       "      <td>0.712801</td>\n",
       "      <td>0.793334</td>\n",
       "    </tr>\n",
       "    <tr>\n",
       "      <th>102</th>\n",
       "      <td>0.500249</td>\n",
       "      <td>-0.955294</td>\n",
       "      <td>-1.009380</td>\n",
       "      <td>-0.009617</td>\n",
       "      <td>-0.607394</td>\n",
       "      <td>-0.891477</td>\n",
       "    </tr>\n",
       "    <tr>\n",
       "      <th>668</th>\n",
       "      <td>0.500249</td>\n",
       "      <td>-1.617801</td>\n",
       "      <td>-1.587562</td>\n",
       "      <td>-0.355005</td>\n",
       "      <td>-0.662403</td>\n",
       "      <td>-0.891477</td>\n",
       "    </tr>\n",
       "    <tr>\n",
       "      <th>4179</th>\n",
       "      <td>1.500386</td>\n",
       "      <td>-0.027784</td>\n",
       "      <td>-0.142107</td>\n",
       "      <td>-0.355005</td>\n",
       "      <td>1.097858</td>\n",
       "      <td>1.154365</td>\n",
       "    </tr>\n",
       "    <tr>\n",
       "      <th>1102</th>\n",
       "      <td>0.000181</td>\n",
       "      <td>-0.226536</td>\n",
       "      <td>-0.142107</td>\n",
       "      <td>0.977206</td>\n",
       "      <td>0.272736</td>\n",
       "      <td>0.372131</td>\n",
       "    </tr>\n",
       "  </tbody>\n",
       "</table>\n",
       "</div>"
      ],
      "text/plain": [
       "       weekday      week     month      PRCP      TMAX      TMIN\n",
       "482  -0.999955  0.767225  0.725166 -0.355005  0.712801  0.793334\n",
       "102   0.500249 -0.955294 -1.009380 -0.009617 -0.607394 -0.891477\n",
       "668   0.500249 -1.617801 -1.587562 -0.355005 -0.662403 -0.891477\n",
       "4179  1.500386 -0.027784 -0.142107 -0.355005  1.097858  1.154365\n",
       "1102  0.000181 -0.226536 -0.142107  0.977206  0.272736  0.372131"
      ]
     },
     "execution_count": 33,
     "metadata": {},
     "output_type": "execute_result"
    }
   ],
   "source": [
    "train_df = merged.sample(frac=0.8)\n",
    "labels = train_df['pal_mean'].tolist()\n",
    "train_df.drop(columns=['pal_mean'], inplace=True)\n",
    "train_df.head()"
   ]
  },
  {
   "cell_type": "code",
   "execution_count": 40,
   "metadata": {},
   "outputs": [
    {
     "name": "stdout",
     "output_type": "stream",
     "text": [
      "_________________________________________________________________\n",
      "Layer (type)                 Output Shape              Param #   \n",
      "=================================================================\n",
      "main_input (InputLayer)      (None, 6)                 0         \n",
      "_________________________________________________________________\n",
      "dense_3 (Dense)              (None, 64)                448       \n",
      "_________________________________________________________________\n",
      "dropout_2 (Dropout)          (None, 64)                0         \n",
      "_________________________________________________________________\n",
      "dense_4 (Dense)              (None, 64)                4160      \n",
      "_________________________________________________________________\n",
      "output (Dense)               (None, 1)                 65        \n",
      "=================================================================\n",
      "Total params: 4,673\n",
      "Trainable params: 4,673\n",
      "Non-trainable params: 0\n",
      "_________________________________________________________________\n"
     ]
    }
   ],
   "source": [
    "main_input = Input(shape=(train_df.shape[1],), name='main_input')\n",
    "\n",
    "x = Dense(64, activation='relu')(main_input)\n",
    "x = Dropout(.25)(x)\n",
    "x = Dense(64, activation='relu')(x)\n",
    "\n",
    "output = Dense(1, name='output')(x)\n",
    "\n",
    "model = Model(inputs=[main_input], outputs=output)\n",
    "model.summary()"
   ]
  },
  {
   "cell_type": "code",
   "execution_count": 41,
   "metadata": {},
   "outputs": [
    {
     "name": "stdout",
     "output_type": "stream",
     "text": [
      "Train on 3528 samples, validate on 882 samples\n",
      "Epoch 1/50\n",
      "3528/3528 [==============================] - 1s 354us/step - loss: 0.3221 - mean_absolute_error: 0.4293 - val_loss: 0.1333 - val_mean_absolute_error: 0.2646\n",
      "Epoch 2/50\n",
      "3528/3528 [==============================] - 0s 113us/step - loss: 0.1628 - mean_absolute_error: 0.2959 - val_loss: 0.1077 - val_mean_absolute_error: 0.2429\n",
      "Epoch 3/50\n",
      "3528/3528 [==============================] - 0s 115us/step - loss: 0.1386 - mean_absolute_error: 0.2735 - val_loss: 0.0965 - val_mean_absolute_error: 0.2318\n",
      "Epoch 4/50\n",
      "3528/3528 [==============================] - 0s 112us/step - loss: 0.1355 - mean_absolute_error: 0.2701 - val_loss: 0.0942 - val_mean_absolute_error: 0.2264\n",
      "Epoch 5/50\n",
      "3528/3528 [==============================] - 0s 113us/step - loss: 0.1259 - mean_absolute_error: 0.2597 - val_loss: 0.0985 - val_mean_absolute_error: 0.2222\n",
      "Epoch 6/50\n",
      "3528/3528 [==============================] - 0s 114us/step - loss: 0.1180 - mean_absolute_error: 0.2473 - val_loss: 0.0886 - val_mean_absolute_error: 0.2207\n",
      "Epoch 7/50\n",
      "3528/3528 [==============================] - 0s 112us/step - loss: 0.1225 - mean_absolute_error: 0.2526 - val_loss: 0.0865 - val_mean_absolute_error: 0.2103\n",
      "Epoch 8/50\n",
      "3528/3528 [==============================] - 0s 125us/step - loss: 0.1160 - mean_absolute_error: 0.2467 - val_loss: 0.0932 - val_mean_absolute_error: 0.2241\n",
      "Epoch 9/50\n",
      "3528/3528 [==============================] - 0s 113us/step - loss: 0.1161 - mean_absolute_error: 0.2470 - val_loss: 0.0982 - val_mean_absolute_error: 0.2295\n",
      "Epoch 10/50\n",
      "3528/3528 [==============================] - 0s 114us/step - loss: 0.1094 - mean_absolute_error: 0.2400 - val_loss: 0.0868 - val_mean_absolute_error: 0.2143\n",
      "Epoch 11/50\n",
      "3528/3528 [==============================] - 0s 116us/step - loss: 0.1090 - mean_absolute_error: 0.2396 - val_loss: 0.0858 - val_mean_absolute_error: 0.2127\n",
      "Epoch 12/50\n",
      "3528/3528 [==============================] - 0s 114us/step - loss: 0.1046 - mean_absolute_error: 0.2365 - val_loss: 0.1083 - val_mean_absolute_error: 0.2375\n",
      "Epoch 13/50\n",
      "3528/3528 [==============================] - 0s 114us/step - loss: 0.1026 - mean_absolute_error: 0.2351 - val_loss: 0.1061 - val_mean_absolute_error: 0.2286\n",
      "Epoch 14/50\n",
      "3528/3528 [==============================] - 0s 114us/step - loss: 0.1015 - mean_absolute_error: 0.2330 - val_loss: 0.0828 - val_mean_absolute_error: 0.2100\n",
      "Epoch 15/50\n",
      "3528/3528 [==============================] - 0s 117us/step - loss: 0.0965 - mean_absolute_error: 0.2269 - val_loss: 0.1097 - val_mean_absolute_error: 0.2375\n",
      "Epoch 16/50\n",
      "3528/3528 [==============================] - 0s 112us/step - loss: 0.0994 - mean_absolute_error: 0.2308 - val_loss: 0.0987 - val_mean_absolute_error: 0.2238\n",
      "Epoch 17/50\n",
      "3528/3528 [==============================] - 0s 116us/step - loss: 0.1006 - mean_absolute_error: 0.2306 - val_loss: 0.0846 - val_mean_absolute_error: 0.2109\n",
      "Epoch 18/50\n",
      "3528/3528 [==============================] - 0s 119us/step - loss: 0.1006 - mean_absolute_error: 0.2309 - val_loss: 0.1038 - val_mean_absolute_error: 0.2278\n",
      "Epoch 19/50\n",
      "3528/3528 [==============================] - 0s 115us/step - loss: 0.0963 - mean_absolute_error: 0.2283 - val_loss: 0.0901 - val_mean_absolute_error: 0.2163\n",
      "Epoch 20/50\n",
      "3528/3528 [==============================] - 0s 118us/step - loss: 0.0958 - mean_absolute_error: 0.2263 - val_loss: 0.1147 - val_mean_absolute_error: 0.2362\n",
      "Epoch 21/50\n",
      "3528/3528 [==============================] - 0s 116us/step - loss: 0.0957 - mean_absolute_error: 0.2266 - val_loss: 0.0947 - val_mean_absolute_error: 0.2215\n",
      "Epoch 22/50\n",
      "3528/3528 [==============================] - 0s 118us/step - loss: 0.0956 - mean_absolute_error: 0.2240 - val_loss: 0.0810 - val_mean_absolute_error: 0.2047\n",
      "Epoch 23/50\n",
      "3528/3528 [==============================] - 0s 119us/step - loss: 0.0935 - mean_absolute_error: 0.2243 - val_loss: 0.1183 - val_mean_absolute_error: 0.2528\n",
      "Epoch 24/50\n",
      "3528/3528 [==============================] - 0s 111us/step - loss: 0.0925 - mean_absolute_error: 0.2213 - val_loss: 0.1198 - val_mean_absolute_error: 0.2486\n",
      "Epoch 25/50\n",
      "3528/3528 [==============================] - 0s 114us/step - loss: 0.0897 - mean_absolute_error: 0.2188 - val_loss: 0.1264 - val_mean_absolute_error: 0.2604\n",
      "Epoch 26/50\n",
      "3528/3528 [==============================] - 0s 113us/step - loss: 0.0923 - mean_absolute_error: 0.2214 - val_loss: 0.1260 - val_mean_absolute_error: 0.2646\n",
      "Epoch 27/50\n",
      "3528/3528 [==============================] - 0s 112us/step - loss: 0.0912 - mean_absolute_error: 0.2203 - val_loss: 0.1432 - val_mean_absolute_error: 0.2695\n",
      "Epoch 28/50\n",
      "3528/3528 [==============================] - 0s 113us/step - loss: 0.0887 - mean_absolute_error: 0.2196 - val_loss: 0.1060 - val_mean_absolute_error: 0.2353\n",
      "Epoch 29/50\n",
      "3528/3528 [==============================] - 0s 111us/step - loss: 0.0891 - mean_absolute_error: 0.2166 - val_loss: 0.0946 - val_mean_absolute_error: 0.2177\n",
      "Epoch 30/50\n",
      "3528/3528 [==============================] - 0s 111us/step - loss: 0.0886 - mean_absolute_error: 0.2164 - val_loss: 0.0915 - val_mean_absolute_error: 0.2194\n",
      "Epoch 31/50\n",
      "3528/3528 [==============================] - 0s 112us/step - loss: 0.0848 - mean_absolute_error: 0.2141 - val_loss: 0.0982 - val_mean_absolute_error: 0.2228\n",
      "Epoch 32/50\n",
      "3528/3528 [==============================] - 0s 112us/step - loss: 0.0851 - mean_absolute_error: 0.2118 - val_loss: 0.0830 - val_mean_absolute_error: 0.2049\n",
      "Epoch 33/50\n",
      "3528/3528 [==============================] - 0s 111us/step - loss: 0.0864 - mean_absolute_error: 0.2147 - val_loss: 0.1086 - val_mean_absolute_error: 0.2279\n",
      "Epoch 34/50\n",
      "3528/3528 [==============================] - 0s 112us/step - loss: 0.0857 - mean_absolute_error: 0.2132 - val_loss: 0.0925 - val_mean_absolute_error: 0.2362\n",
      "Epoch 35/50\n",
      "3528/3528 [==============================] - 0s 113us/step - loss: 0.0840 - mean_absolute_error: 0.2094 - val_loss: 0.1343 - val_mean_absolute_error: 0.2569\n",
      "Epoch 36/50\n",
      "3528/3528 [==============================] - 0s 115us/step - loss: 0.0840 - mean_absolute_error: 0.2104 - val_loss: 0.1187 - val_mean_absolute_error: 0.2402\n",
      "Epoch 37/50\n",
      "3528/3528 [==============================] - 0s 116us/step - loss: 0.0850 - mean_absolute_error: 0.2128 - val_loss: 0.1123 - val_mean_absolute_error: 0.2444\n",
      "Epoch 38/50\n",
      "3528/3528 [==============================] - 0s 121us/step - loss: 0.0835 - mean_absolute_error: 0.2091 - val_loss: 0.1041 - val_mean_absolute_error: 0.2285\n",
      "Epoch 39/50\n",
      "3528/3528 [==============================] - 0s 112us/step - loss: 0.0818 - mean_absolute_error: 0.2076 - val_loss: 0.1291 - val_mean_absolute_error: 0.2680\n",
      "Epoch 40/50\n",
      "3528/3528 [==============================] - 0s 113us/step - loss: 0.0801 - mean_absolute_error: 0.2041 - val_loss: 0.1340 - val_mean_absolute_error: 0.2692\n",
      "Epoch 41/50\n",
      "3528/3528 [==============================] - 0s 114us/step - loss: 0.0801 - mean_absolute_error: 0.2048 - val_loss: 0.0918 - val_mean_absolute_error: 0.2196\n",
      "Epoch 42/50\n",
      "3528/3528 [==============================] - 0s 115us/step - loss: 0.0797 - mean_absolute_error: 0.2030 - val_loss: 0.0840 - val_mean_absolute_error: 0.2125\n",
      "Epoch 43/50\n",
      "3528/3528 [==============================] - 0s 113us/step - loss: 0.0783 - mean_absolute_error: 0.2028 - val_loss: 0.1098 - val_mean_absolute_error: 0.2378\n",
      "Epoch 44/50\n",
      "3528/3528 [==============================] - 0s 111us/step - loss: 0.0797 - mean_absolute_error: 0.2035 - val_loss: 0.0816 - val_mean_absolute_error: 0.2103\n",
      "Epoch 45/50\n",
      "3528/3528 [==============================] - 0s 113us/step - loss: 0.0795 - mean_absolute_error: 0.2019 - val_loss: 0.0932 - val_mean_absolute_error: 0.2270\n",
      "Epoch 46/50\n",
      "3528/3528 [==============================] - 0s 110us/step - loss: 0.0801 - mean_absolute_error: 0.2025 - val_loss: 0.1365 - val_mean_absolute_error: 0.2596\n",
      "Epoch 47/50\n",
      "3528/3528 [==============================] - 0s 115us/step - loss: 0.0761 - mean_absolute_error: 0.2000 - val_loss: 0.1093 - val_mean_absolute_error: 0.2345\n",
      "Epoch 48/50\n",
      "3528/3528 [==============================] - 0s 112us/step - loss: 0.0778 - mean_absolute_error: 0.1991 - val_loss: 0.0919 - val_mean_absolute_error: 0.2176\n",
      "Epoch 49/50\n",
      "3528/3528 [==============================] - 0s 111us/step - loss: 0.0783 - mean_absolute_error: 0.2018 - val_loss: 0.1217 - val_mean_absolute_error: 0.2507\n",
      "Epoch 50/50\n",
      "3528/3528 [==============================] - 0s 111us/step - loss: 0.0785 - mean_absolute_error: 0.2009 - val_loss: 0.1489 - val_mean_absolute_error: 0.2812\n"
     ]
    }
   ],
   "source": [
    "model.compile(optimizer='rmsprop',\n",
    "              loss='mse',\n",
    "              metrics=['mae'])\n",
    "history = model.fit([train_df], labels,\n",
    "                    epochs=50,\n",
    "                    batch_size=32,\n",
    "                    validation_split=0.2,\n",
    "                   )"
   ]
  },
  {
   "cell_type": "code",
   "execution_count": 52,
   "metadata": {},
   "outputs": [
    {
     "data": {
      "image/png": "[encoded data removed]",
      "text/plain": [
       "<Figure size 432x288 with 1 Axes>"
      ]
     },
     "metadata": {},
     "output_type": "display_data"
    },
    {
     "data": {
      "image/png": "[encoded data removed]",
      "text/plain": [
       "<Figure size 432x288 with 1 Axes>"
      ]
     },
     "metadata": {},
     "output_type": "display_data"
    }
   ],
   "source": [
    "mae = history.history['mean_absolute_error']\n",
    "val_mae = history.history['val_mean_absolute_error']\n",
    "loss = history.history['loss']\n",
    "val_loss = history.history['val_loss']\n",
    "epochs = range(1, len(mae) + 1)\n",
    "plt.plot(epochs, mae, 'bo', label='Training MAE')\n",
    "plt.plot(epochs, val_mae, 'b', label='Validation MAE')\n",
    "plt.title('Training and validation accuracy')\n",
    "plt.legend()\n",
    "plt.figure()\n",
    "plt.plot(epochs, loss, 'bo', label='Training loss')\n",
    "plt.plot(epochs, val_loss, 'b', label='Validation loss')\n",
    "plt.title('Training and validation loss')\n",
    "plt.legend()\n",
    "plt.show()"
   ]
  },
  {
   "cell_type": "raw",
   "metadata": {},
   "source": []
  }
 ],
 "metadata": {
  "kernelspec": {
   "display_name": "Python 3",
   "language": "python",
   "name": "python3"
  },
  "language_info": {
   "codemirror_mode": {
    "name": "ipython",
    "version": 3
   },
   "file_extension": ".py",
   "mimetype": "text/x-python",
   "name": "python",
   "nbconvert_exporter": "python",
   "pygments_lexer": "ipython3",
   "version": "3.7.3"
  }
 },
 "nbformat": 4,
 "nbformat_minor": 4
}
