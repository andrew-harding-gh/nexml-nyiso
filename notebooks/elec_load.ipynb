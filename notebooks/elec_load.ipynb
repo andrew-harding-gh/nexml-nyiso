{
 "cells": [
  {
   "cell_type": "code",
   "execution_count": 1,
   "metadata": {
    "pycharm": {
     "is_executing": false,
     "name": "#%%\n"
    }
   },
   "outputs": [
    {
     "ename": "ModuleNotFoundError",
     "evalue": "No module named 'nexml_iso'",
     "output_type": "error",
     "traceback": [
      "\u001b[0;31m---------------------------------------------------------------------------\u001b[0m",
      "\u001b[0;31mModuleNotFoundError\u001b[0m                       Traceback (most recent call last)",
      "\u001b[0;32m<ipython-input-1-b732abbe2c14>\u001b[0m in \u001b[0;36m<module>\u001b[0;34m\u001b[0m\n\u001b[1;32m      9\u001b[0m \u001b[0;32mimport\u001b[0m \u001b[0mdatetime\u001b[0m\u001b[0;34m\u001b[0m\u001b[0;34m\u001b[0m\u001b[0m\n\u001b[1;32m     10\u001b[0m \u001b[0;34m\u001b[0m\u001b[0m\n\u001b[0;32m---> 11\u001b[0;31m \u001b[0;32mfrom\u001b[0m \u001b[0mnexml_iso\u001b[0m\u001b[0;34m.\u001b[0m\u001b[0mnotebooks\u001b[0m \u001b[0;32mimport\u001b[0m \u001b[0mutils\u001b[0m\u001b[0;34m\u001b[0m\u001b[0;34m\u001b[0m\u001b[0m\n\u001b[0m",
      "\u001b[0;31mModuleNotFoundError\u001b[0m: No module named 'nexml_iso'"
     ]
    }
   ],
   "source": [
    "import pandas as pd\n",
    "from bokeh.plotting import figure, output_file, show\n",
    "from bokeh.models import ColumnDataSource\n",
    "from bokeh.models.tools import HoverTool\n",
    "from bokeh.io import output_notebook\n",
    "import sklearn\n",
    "import seaborn as sns\n",
    "import matplotlib.pyplot as plt\n",
    "import datetime\n",
    "\n",
    "from nexml_iso.notebooks import utils"
   ]
  },
  {
   "cell_type": "code",
   "execution_count": null,
   "metadata": {
    "pycharm": {
     "is_executing": false
    }
   },
   "outputs": [],
   "source": [
    "pal_df = pd.read_csv('../data/nyiso_pal_master.csv')\n",
    "isolf_df = pd.read_csv('../data/nyiso_isolf_master.csv')\n",
    "pal_df.head()"
   ]
  },
  {
   "cell_type": "code",
   "execution_count": null,
   "metadata": {},
   "outputs": [],
   "source": [
    "pal_df['Time Stamp'] = pd.to_datetime(pal_df['Time Stamp'])\n",
    "pal_df.columns.tolist()"
   ]
  },
  {
   "cell_type": "code",
   "execution_count": null,
   "metadata": {},
   "outputs": [],
   "source": [
    "isolf_df.rename(columns={'min': 'isolf_min', 'max': 'isolf_max', 'mean': 'isolf_mean'}, inplace=True)\n",
    "isolf_df['Time Stamp'] = pd.to_datetime(isolf_df['Time Stamp'])\n",
    "isolf_df.columns.tolist()"
   ]
  },
  {
   "cell_type": "code",
   "execution_count": null,
   "metadata": {},
   "outputs": [],
   "source": [
    "# We can merge our two datasets and add some nuance to our dates\n",
    "df = pal_df.merge(isolf_df, sort=True)\n",
    "df.drop(['PTID', 'Name'], axis='columns', inplace=True)\n",
    "df['weekday'] = df['Time Stamp'].dt.weekday\n",
    "df['week'] = df['Time Stamp'].dt.week\n",
    "df['month'] = df['Time Stamp'].dt.month\n",
    "df['year'] = df['Time Stamp'].dt.year\n",
    "df.info()"
   ]
  },
  {
   "cell_type": "code",
   "execution_count": null,
   "metadata": {},
   "outputs": [],
   "source": [
    "corr = df.corr()\n",
    "fig, ax = plt.subplots(figsize=(10,10))\n",
    "sns.heatmap(data=corr, ax=ax, annot=True)"
   ]
  },
  {
   "cell_type": "code",
   "execution_count": null,
   "metadata": {},
   "outputs": [],
   "source": [
    "fig, axes = plt.subplots(3, 1, figsize=(20,10), sharex=True, sharey=True)\n",
    "axes[0].plot(df['Time Stamp'], df['pal_mean'])\n",
    "axes[0].set_title('actual')\n",
    "axes[1].plot(df['Time Stamp'], df['isolf_mean'], c='red', alpha=.5)\n",
    "axes[1].set_title('forecast')\n",
    "axes[2].plot(df['Time Stamp'], df['pal_mean'], label='actual', alpha=.75, ms=.5)\n",
    "axes[2].plot(df['Time Stamp'], df['isolf_mean'], c='red', alpha=.25, label='forecast', ms=.5)\n",
    "axes[2].set_title('overlay')\n",
    "axes[2].legend()\n",
    "fig.text(.075, .5, 'Load in Megawatts(MW)', ha='center', va='center', rotation='vertical')\n",
    "plt.show()\n",
    "\n",
    "#Lots of overlap! Means the ISO has done a good job forecasting so far.\n",
    "# But outside of the seasonal cycles, we don't see a pronounced drop or increase over time. We can assume \n",
    "# probably assume relatively stability for now"
   ]
  },
  {
   "cell_type": "code",
   "execution_count": null,
   "metadata": {},
   "outputs": [],
   "source": [
    "# Let's check out the regularity of our load data\n",
    "mask = (df['Time Stamp'] > datetime.datetime(2018, 1, 1)) & (df['Time Stamp'] < datetime.datetime(2020, 1, 1))\n",
    "plt.plot(df.loc[mask]['Time Stamp'], df.loc[mask]['pal_max'], ms=.5, label='max')\n",
    "plt.plot(df.loc[mask]['Time Stamp'], df.loc[mask]['pal_min'], ms=.5, label='min')\n",
    "plt.title('Actual Load min and max for 2018 and 2019')\n",
    "plt.legend()\n",
    "plt.show()"
   ]
  },
  {
   "cell_type": "code",
   "execution_count": null,
   "metadata": {},
   "outputs": [],
   "source": [
    "# Finally, let's check out the frequency of our load in histogram form\n",
    "fig, ax = plt.subplots()\n",
    "ax.set_xlabel('Load (MW)')\n",
    "ax.set_ylabel('Number of Days')\n",
    "ax.hist(df['pal_mean'], 50)\n",
    "plt.show()"
   ]
  },
  {
   "cell_type": "code",
   "execution_count": null,
   "metadata": {},
   "outputs": [],
   "source": [
    "fig, ax = plt.subplots(2, 1, figsize=(12,8), sharey=True)\n",
    "sns.violinplot(df['year'], df['pal_mean'], ax=ax[0])\n",
    "sns.violinplot(df['month'], df['pal_mean'], ax=ax[1])\n",
    "plt.show()\n",
    "\n",
    "# Here again we can see our distribution play out across multiple years settling between around our mean at 5.5k\n",
    "# We can also see that most of the variation (our tails) can be accounted for in the summer months"
   ]
  },
  {
   "cell_type": "code",
   "execution_count": null,
   "metadata": {},
   "outputs": [],
   "source": [
    "# Another interesting point is that in month 4 and 10 (april and october) are local minimums for our line\n",
    "\n",
    "months = df.groupby('month').mean()\n",
    "# plt.plot()"
   ]
  },
  {
   "cell_type": "code",
   "execution_count": null,
   "metadata": {},
   "outputs": [],
   "source": [
    " # We also notice that weekday has some correlation to our load value. Let's check it out further\n",
    "\n",
    "fig, ax = plt.subplots(figsize=(12, 6))\n",
    "sns.violinplot(df['weekday'], df['pal_mean'])\n",
    "plt.show()"
   ]
  },
  {
   "cell_type": "markdown",
   "metadata": {},
   "source": [
    "Wonderful! We see that the weekends (weekday 5 and 6) are shaped similar, but have a lower center.\n",
    "\n",
    "We can also guess that our seasonal variation discovered above an be found by following the month vector. Let's confirm."
   ]
  },
  {
   "cell_type": "code",
   "execution_count": null,
   "metadata": {},
   "outputs": [],
   "source": []
  }
 ],
 "metadata": {
  "kernelspec": {
   "display_name": "venv",
   "language": "python",
   "name": "venv"
  },
  "language_info": {
   "codemirror_mode": {
    "name": "ipython",
    "version": 3
   },
   "file_extension": ".py",
   "mimetype": "text/x-python",
   "name": "python",
   "nbconvert_exporter": "python",
   "pygments_lexer": "ipython3",
   "version": "3.7.5"
  },
  "pycharm": {
   "stem_cell": {
    "cell_type": "raw",
    "metadata": {
     "collapsed": false
    },
    "source": []
   }
  }
 },
 "nbformat": 4,
 "nbformat_minor": 4
}
